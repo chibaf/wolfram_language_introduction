{
 "cells": [
  {
   "cell_type": "code",
   "execution_count": 1,
   "id": "05885d27",
   "metadata": {},
   "outputs": [],
   "source": [
    "(* 初心者用Wolfram Langine on Jupyter Notebook 簡易マニュアル Version 13.1 で確認 *)"
   ]
  },
  {
   "cell_type": "code",
   "execution_count": 2,
   "id": "7165cdea",
   "metadata": {},
   "outputs": [],
   "source": [
    "(* まず覚えることは、ノートブックの開き方と、式の評価はエンターキーもし くはシフトキーとリターンキーを同時に押すことにより行われること。 *)"
   ]
  },
  {
   "cell_type": "code",
   "execution_count": 4,
   "id": "ae58ef7e",
   "metadata": {},
   "outputs": [],
   "source": [
    "(* 数字 *)\n",
    "\n",
    "(* 小数点のない3や4/9やSin[6]は「記号的に」評価される。 4/9+7/9 *)"
   ]
  },
  {
   "cell_type": "code",
   "execution_count": 5,
   "id": "6e90d64b",
   "metadata": {},
   "outputs": [
    {
     "data": {
      "text/html": [
       "<div><img alt=\"Output\" src=\"data:image/png;base64,iVBORw0KGgoAAAANSUhEUgAAABUAAAAhCAIAAAC5nnd6AAAAzXpUWHRSYXcgcHJvZmlsZSB0eXBlIGV4aWYAAHjabU9REkIhCPz3FB0BARc9jq9spht0/OBpNTbtjLAsC2oaz8c9XQKcKWmxigaQQ5s27k4qTcycqZ1xFmX18q4nfhu6S+XbwFj6seuGmbn+LCKeROIG56JrYC0Snnrusz6Wn3ut+6JGG7R+nv6/FmMUZFOPymSG5rwmp55QmIrhjivgxowbk149D5j5GCwc0mMwwMN290gQF27xBYnD0iU7OyOHIs5Z7FTAh/eac5L4zgsR3FqOpATOzgAAAAlwSFlzAAALEwAACxMBAJqcGAAAADx0RVh0U29mdHdhcmUAQ3JlYXRlZCB3aXRoIHRoZSBXb2xmcmFtIExhbmd1YWdlIDogd3d3LndvbGZyYW0uY29tXKKmhQAAACF0RVh0Q3JlYXRpb24gVGltZQAyMDIyOjEwOjEwIDIzOjI3OjE22pzTHQAAAbBJREFUSIntlD2LwkAQhjfnLRYGSSGIjf4ELQQFEes0SgpJJ1YWgj9FsLKw1MJCGxtRFDtBGxGLgAQ/ENxOC1kkS0jmCo+7EJND8ZqDe7uZnWdmZ2d3OQBAL+jNalyv116vVywWy+Wy1X84HBqNhiiKnU7nJ54Q0m63F4vFarWy+qfT6WQymc1mhBD7BuBO1Wo1lUrd+xOJRK1Wsznf7Ple6f8P8u9WgzEGALquG4ahaRrHcV6vFwAYYwgh0zR1Xdc0zePxYIw/GethxuNxazpBEABgu93aapZKpS+E+837988/rc/5U0ovl8vjmN/v53n+m99sNsvl8nE+FotFo1GE0P/8XbTf7/P5fDgcTqfTg8HgOd40TVEUBUEYDoe5XE6SpPl87pzg/p8EgPV6jRCilN5MSZJkWXaMdK7v8/kQQoqi3MxIJKKqqmOk6/wzmQwhRJZlRVHG43EwGHRM4cpTSuv1+m63SyaT5/O53++PRqNH+7cpm81WKhXHJVe+2Wwej0cAaLVaGGNVVZ/gDcMoFAoYY57nA4FAt9t1K/PT+2GMnU6nUCjEcZxbzKvv7wPtasruseirUAAAAABJRU5ErkJggg==\"></div>"
      ],
      "text/plain": [
       "11\n",
       "--\n",
       "9"
      ]
     },
     "execution_count": 5,
     "metadata": {
      "text/html": [],
      "text/plain": []
     },
     "output_type": "execute_result"
    }
   ],
   "source": [
    "4/9+7/9"
   ]
  },
  {
   "cell_type": "code",
   "execution_count": 6,
   "id": "566ec7d4",
   "metadata": {},
   "outputs": [
    {
     "data": {
      "text/html": [
       "<div><img alt=\"Output\" src=\"data:image/png;base64,iVBORw0KGgoAAAANSUhEUgAAAC8AAAARCAIAAADCNWImAAAAzXpUWHRSYXcgcHJvZmlsZSB0eXBlIGV4aWYAAHjabU/bDQMhDPtnio6QBzgwDtdyUjfo+E0O1IqqlnAc5wGk8Xqe6RYQppSLVTSAHLnlJt1FpYkZmdrFF+RcNd79xEtwd6t8CxjLP3bfsBbWn0UkU2jc4FrzGliLVKbPfebH6pde676o0YZcP0//n6sJCtiycxYyQ3Ndk0sPKELFcOIOeCPjIZTvHgfMfAwWHdpjMCDD9u6RoG484gsaR7Qru7pYwlHXotXZMzmc26XjO29Z4lq7meSpAwAAAAlwSFlzAAALEwAACxMBAJqcGAAAADx0RVh0U29mdHdhcmUAQ3JlYXRlZCB3aXRoIHRoZSBXb2xmcmFtIExhbmd1YWdlIDogd3d3LndvbGZyYW0uY29tXKKmhQAAACF0RVh0Q3JlYXRpb24gVGltZQAyMDIyOjEwOjEwIDIzOjI4OjAynIk2EwAAAspJREFUSInNVT9IclEc/d2n5VJQmg5hEYGBTUqDaBCJwRtsChsCwSkaAoegHKJBIdAIWkSkKFqCh+hiCBWVxCMSBBE0CKPAF2IZXUPBIdL3DfY9nvr5Z4i+znTv4dzHOYffvQ+xLAu/BsT/NlCD3+oGY4wxblT4/X6r1VqpVH7CDsuyDMNoNBoAQAgpFIrT01OWh6WlJbFYXCgU2A7AMAxN07FYjE+Gw2G9Xi+Xyw0Gw9nZGcfTNE3TNMaYYwgAWFtbK5fLDMMUCgWbzZbL5fh2vV5vLpfr7e3tJNvh4WEkEslmsxwTiUSMRuPs7Ozx8bHJZEokElwL6XSaoqibm5uabvR6/cLCQl3KWCym/IvJyUmO39nZ2draWl9fl8vlExMTgUCAf8rhcNzf3/MZkiRXVlaadUlRVCgUqulmcXGRoqiZmZnLy0vO5ejoqMfj8Xg8ZrM5lUpx/PPz88bGRjab9fl8SqXSarW2bisejxuNxmAw6HK5Li4u2nRbNXV+fq7T6QBAq9XWhQsGg1KplNvabLbp6enq+uHhAQD4+rpuSqVSNRhJknNzcyKRaHNzs003AGAwGK6vr6+urt7f3+fn51sH6Ovrqy5GRkYAIJ/PN1MKhUKBQLC8vHxychIIBJxOp9vtbvFlAgA+Pz+rm6mpKZfLFY/HPz4+2lTaGbq6uoaGhgjiK7NGo3l7e2Obv/4ExlihULjdbozx09PTwcHB2NhYd3f3t7gBAIvFsru7m0wmK5XK/v6+VqtFCDV1IxaL7Xb79va2RCIZHh6+u7s7OjqqURAE/zxCiMvaCVZXV9VqtUql6u/vj0aje3t7rdTcBL2+vr68vDS7ih2i8YZXUSwWM5lMI//vKQaAgYEBmUzWeehmeHx8TKfTdWRPT8/g4GAdmUqlMpkMn/nmvyZJkre3tzRNt1WyLBsKhRBC4+PjHIlaTPjP4w+K0Y9dN13R5QAAAABJRU5ErkJggg==\"></div>"
      ],
      "text/plain": [
       "Sin[6]"
      ]
     },
     "execution_count": 6,
     "metadata": {
      "text/html": [],
      "text/plain": []
     },
     "output_type": "execute_result"
    }
   ],
   "source": [
    "Sin[6]"
   ]
  },
  {
   "cell_type": "code",
   "execution_count": 7,
   "id": "520e908d",
   "metadata": {},
   "outputs": [],
   "source": [
    "(* 3.1415は有限精度として評価される。 N[]で倍精度実数に変換できる. *)"
   ]
  },
  {
   "cell_type": "code",
   "execution_count": 8,
   "id": "9490d9f8",
   "metadata": {},
   "outputs": [
    {
     "data": {
      "text/html": [
       "<div><pre style=\"&#102;&#111;&#110;&#116;&#45;&#102;&#97;&#109;&#105;&#108;&#121;&#58;&#32;&#34;&#67;&#111;&#117;&#114;&#105;&#101;&#114;&#32;&#78;&#101;&#119;&#34;&#44;&#67;&#111;&#117;&#114;&#105;&#101;&#114;&#44;&#109;&#111;&#110;&#111;&#115;&#112;&#97;&#99;&#101;&#59;\">&#48;&#46;&#52;&#52;&#52;&#52;&#52;&#52;</pre></div>"
      ],
      "text/plain": [
       "0.444444"
      ]
     },
     "execution_count": 8,
     "metadata": {
      "text/html": [],
      "text/plain": []
     },
     "output_type": "execute_result"
    }
   ],
   "source": [
    "N[4/9]"
   ]
  },
  {
   "cell_type": "code",
   "execution_count": 9,
   "id": "6999e268",
   "metadata": {},
   "outputs": [
    {
     "data": {
      "text/html": [
       "<div><img alt=\"Output\" src=\"data:image/png;base64,iVBORw0KGgoAAAANSUhEUgAAAJQAAAARCAIAAAC0IxLoAAAA0XpUWHRSYXcgcHJvZmlsZSB0eXBlIGV4aWYAAHjabY/bbUQhDET/qWJL8ANsUw53l5XSQcrf8QUlIspI2IexMVDm99e7PFLCVGrzsG5GUO21ywAELa3M1O94q9dd49MvvIEHrPZbsLn96/TdVpb4M4hkgeYNYN03+h6ksnwea3/tfhkR56BOh2r8PP3/vbpYM/aKWIXcrYOjAJGsCTW3tz3N0Mj2EqpP5GnuOGaeHTryYEqmn92zmMJ45Rc0l+hQBt1R0lGwaCA2DblQ62DS/M4HG1Bam3w/MTUAAAAJcEhZcwAACxMAAAsTAQCanBgAAAA8dEVYdFNvZnR3YXJlAENyZWF0ZWQgd2l0aCB0aGUgV29sZnJhbSBMYW5ndWFnZSA6IHd3dy53b2xmcmFtLmNvbVyipoUAAAAhdEVYdENyZWF0aW9uIFRpbWUAMjAyMjoxMDoxMCAyMzoyODo1OAErK0gAAAMWSURBVFiF7Zg/SONQHMdfXlutVSGKwSJFuhQjOAlCq8WxFUFEMKIgxclBVBzM5KKFooKzndTBQREn/w06WAUt1KGWDgpFaAuCNcbBWpRK827IXQzxRXt3HEfxfabwIfl9H/ySXx6PQggBQmkC//cCCH8OaV4JQ5pXMqTT6c7Ozng8rhgIACgUCjMzMyzLtra2rqysFFnr4ODA7XZfX18X6Xme5zjuYx2sF0XR4/EEg0ESqpjGxsahoaHR0VFJkn4qhNDs7CzLsufn5zs7OzU1NXt7e+grUqmU1Wo1Go2RSKQYv7q6WllZabfbNXWwXpKk7u5ui8XC8zwJ1dSJRCIvLy/yNQQABIPB+fl5l8vV09MzNja2vLz88a1R8/b2NjAwMDU1VVFRUYyPx+PT09N+v19TR88vLCw8PDxoXlISKtPW1mY2m+Vr+PT0lMlknE7n+vp6KBRyuVyJROLjM2p4nq+uruZ5vlAoUBT1uX9+fuY4LhAIsCyrLqLnT09Pl5aWNjY21JVJKJ6bmxsAwOvra319vcfjOTs7o2ka6bO9vW21Wu/u7hBCFovl4uLicz84OMhxHEJof39fPTSwPpPJNDQ0bG1tIYRGRkaUYUJCsRjm5uYWFxcnJiY6Ojr6+voEQQiFQpOTk9hO397eer3e9vb2bDYbDocPDw/NZjNN0xRFYf3R0VEgEOjv749GoycnJ5eXlyaTqampaXNzE+t9Pp8ois3NzeFw+Pj4WBAECGFdXd03D7XZbNh2GGmapmk6Go16vV4AwO7urt1uV98Ri8VaWloMBgMAIJfL9fb2yhIAIEnS1dXV/f19bW0t1peVlfl8vmQyKTc+n8/HYrF8Pq/nHQ4HwzBykcfHx2w2m0gknE7nNw/VHZsIofHxcbfbncvl0um0zWZbW1tTPkx5C6vZCynofddYrxkmX3r1MCGhWCAAwO/3m0wmhmEcDkdXV9fw8LDSWnnDo2xvNEAIsX9UPf9bUBQFIeYMgYS+P4h+HUyLolheXl5VVaW5QxAEhmH+cn2Ef8F78wglBznbLGFI80qYHxdXvs3S02aNAAAAAElFTkSuQmCC\"></div>"
      ],
      "text/plain": [
       "0.4444444444444444`"
      ]
     },
     "execution_count": 9,
     "metadata": {
      "text/html": [],
      "text/plain": []
     },
     "output_type": "execute_result"
    }
   ],
   "source": [
    "FullForm[%]"
   ]
  },
  {
   "cell_type": "code",
   "execution_count": 10,
   "id": "05b141c9",
   "metadata": {},
   "outputs": [],
   "source": [
    "(* %は直前の結果を参照 *)"
   ]
  },
  {
   "cell_type": "code",
   "execution_count": 11,
   "id": "92130fda",
   "metadata": {},
   "outputs": [],
   "source": [
    "(* N[]で計算桁数を指定できる。 *)"
   ]
  },
  {
   "cell_type": "code",
   "execution_count": 12,
   "id": "ec5069cf",
   "metadata": {},
   "outputs": [
    {
     "data": {
      "text/html": [
       "<div><pre style=\"&#102;&#111;&#110;&#116;&#45;&#102;&#97;&#109;&#105;&#108;&#121;&#58;&#32;&#34;&#67;&#111;&#117;&#114;&#105;&#101;&#114;&#32;&#78;&#101;&#119;&#34;&#44;&#67;&#111;&#117;&#114;&#105;&#101;&#114;&#44;&#109;&#111;&#110;&#111;&#115;&#112;&#97;&#99;&#101;&#59;\">&#48;&#46;&#52;&#52;&#52;&#52;&#52;&#52;&#52;&#52;&#52;&#52;&#52;&#52;&#52;&#52;&#52;&#52;&#52;&#52;&#52;&#52;&#52;&#52;&#52;&#52;&#52;&#52;&#52;&#52;&#52;&#52;&#52;&#52;&#52;&#52;&#52;&#52;&#52;&#52;&#52;&#52;&#52;&#52;&#52;&#52;&#52;&#52;&#52;&#52;&#52;&#52;</pre></div>"
      ],
      "text/plain": [
       "0.44444444444444444444444444444444444444444444444444"
      ]
     },
     "execution_count": 12,
     "metadata": {
      "text/html": [],
      "text/plain": []
     },
     "output_type": "execute_result"
    }
   ],
   "source": [
    "N[4/9,50]"
   ]
  },
  {
   "cell_type": "code",
   "execution_count": 13,
   "id": "a0b6da38",
   "metadata": {},
   "outputs": [],
   "source": [
    "(* 評価(計算:Evaluation) *)"
   ]
  },
  {
   "cell_type": "code",
   "execution_count": 14,
   "id": "e8711ec0",
   "metadata": {},
   "outputs": [],
   "source": [
    "(* 評価したい式を選んでテンキーの「Enter」もしくはシフトキー+「Return] *)"
   ]
  },
  {
   "cell_type": "code",
   "execution_count": 15,
   "id": "13f356f0",
   "metadata": {},
   "outputs": [],
   "source": [
    "(* 変数や関数の名前 *)"
   ]
  },
  {
   "cell_type": "code",
   "execution_count": 16,
   "id": "dd585f9d",
   "metadata": {},
   "outputs": [],
   "source": [
    "(* 変数や関数は文字で始まる。変数はそれが評価された時点で定義される。*)"
   ]
  },
  {
   "cell_type": "code",
   "execution_count": 17,
   "id": "dd55087a",
   "metadata": {},
   "outputs": [],
   "source": [
    "(* 例： Sin[x], Abcd, Pi *)"
   ]
  },
  {
   "cell_type": "code",
   "execution_count": 18,
   "id": "a1b46625",
   "metadata": {},
   "outputs": [],
   "source": [
    "(* 変数の初期化と消去 *)"
   ]
  },
  {
   "cell_type": "code",
   "execution_count": 19,
   "id": "a09f1607",
   "metadata": {},
   "outputs": [],
   "source": [
    "(* 初期化: a=. またはClear[a] *)"
   ]
  },
  {
   "cell_type": "code",
   "execution_count": 20,
   "id": "d8a72c6e",
   "metadata": {},
   "outputs": [],
   "source": [
    "(* 消去(変数そのものを削除):Remove[a] *)"
   ]
  },
  {
   "cell_type": "code",
   "execution_count": 21,
   "id": "459d8d5c",
   "metadata": {},
   "outputs": [],
   "source": [
    "(* 「;」による表示の抑止 *)"
   ]
  },
  {
   "cell_type": "code",
   "execution_count": 22,
   "id": "060fd4fe",
   "metadata": {},
   "outputs": [
    {
     "data": {
      "text/html": [
       "<div><pre style=\"&#102;&#111;&#110;&#116;&#45;&#102;&#97;&#109;&#105;&#108;&#121;&#58;&#32;&#34;&#67;&#111;&#117;&#114;&#105;&#101;&#114;&#32;&#78;&#101;&#119;&#34;&#44;&#67;&#111;&#117;&#114;&#105;&#101;&#114;&#44;&#109;&#111;&#110;&#111;&#115;&#112;&#97;&#99;&#101;&#59;\">&#123;&#97;&#44;&#32;&#98;&#44;&#32;&#99;&#44;&#32;&#100;&#44;&#32;&#101;&#125;</pre></div>"
      ],
      "text/plain": [
       "{a, b, c, d, e}"
      ]
     },
     "execution_count": 22,
     "metadata": {
      "text/html": [],
      "text/plain": []
     },
     "output_type": "execute_result"
    }
   ],
   "source": [
    "list={a,b,c,d,e}"
   ]
  },
  {
   "cell_type": "code",
   "execution_count": 23,
   "id": "2390485d",
   "metadata": {},
   "outputs": [],
   "source": [
    "list={a,b,c,d,e};"
   ]
  },
  {
   "cell_type": "code",
   "execution_count": 24,
   "id": "3bc1d059",
   "metadata": {},
   "outputs": [],
   "source": [
    "(* 特殊な定数 *)"
   ]
  },
  {
   "cell_type": "code",
   "execution_count": 25,
   "id": "3bbef880",
   "metadata": {},
   "outputs": [],
   "source": [
    "(* E(ネーピアの数), Pi(円周率), EulerGamma(オイラー定数), C(積分定数)など *)"
   ]
  },
  {
   "cell_type": "code",
   "execution_count": 26,
   "id": "09e62448",
   "metadata": {},
   "outputs": [
    {
     "data": {
      "text/html": [
       "<div><img alt=\"Output\" src=\"data:image/png;base64,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\"></div>"
      ],
      "text/plain": [
       "E is the exponential constant  (base of natural logarithms), with numerical value \n",
       " \n",
       ">   ≃ 2.71828.\n",
       "\n",
       "\n",
       "Attributes[E]={Constant, Protected, ReadProtected}"
      ]
     },
     "execution_count": 26,
     "metadata": {
      "text/html": [],
      "text/plain": []
     },
     "output_type": "execute_result"
    }
   ],
   "source": [
    "?E"
   ]
  },
  {
   "cell_type": "code",
   "execution_count": 27,
   "id": "4ac50dbc",
   "metadata": {},
   "outputs": [
    {
     "data": {
      "text/html": [
       "<div><img alt=\"Output\" src=\"data:image/png;base64,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\"></div>"
      ],
      "text/plain": [
       "Pi is π, with numerical value ≃ 3.14159. \n",
       "\n",
       "\n",
       "Attributes[Pi]={Constant, Protected, ReadProtected}"
      ]
     },
     "execution_count": 27,
     "metadata": {
      "text/html": [],
      "text/plain": []
     },
     "output_type": "execute_result"
    }
   ],
   "source": [
    " ?Pi"
   ]
  },
  {
   "cell_type": "code",
   "execution_count": 28,
   "id": "557e068c",
   "metadata": {},
   "outputs": [
    {
     "data": {
      "text/html": [
       "<div><img alt=\"Output\" src=\"data:image/png;base64,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\"></div>"
      ],
      "text/plain": [
       "EulerGamma is Euler’s constant γ, with numerical value ≃ 0.577216. \n",
       "\n",
       "\n",
       "Attributes[EulerGamma]={Constant, Protected}"
      ]
     },
     "execution_count": 28,
     "metadata": {
      "text/html": [],
      "text/plain": []
     },
     "output_type": "execute_result"
    }
   ],
   "source": [
    "?EulerGamma"
   ]
  },
  {
   "cell_type": "code",
   "execution_count": 29,
   "id": "fa4ebc84",
   "metadata": {},
   "outputs": [
    {
     "data": {
      "text/html": [
       "<div><img alt=\"Output\" src=\"data:image/png;base64,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\"></div>"
      ],
      "text/plain": [
       "                                    th\n",
       "C[i] is the default form for the i\n",
       " \n",
       ">      parameter or constant generated in representing the results of various symbolic\\\n",
       " \n",
       ">      computations. \n",
       "\n",
       "\n",
       "Attributes[C]={NHoldAll, Protected, ReadProtected}"
      ]
     },
     "execution_count": 29,
     "metadata": {
      "text/html": [],
      "text/plain": []
     },
     "output_type": "execute_result"
    }
   ],
   "source": [
    "?C"
   ]
  },
  {
   "cell_type": "code",
   "execution_count": 30,
   "id": "7afe443e",
   "metadata": {},
   "outputs": [],
   "source": [
    "(* 代入 *)"
   ]
  },
  {
   "cell_type": "code",
   "execution_count": 31,
   "id": "bf152dd6",
   "metadata": {},
   "outputs": [],
   "source": [
    "(* 直ちに評価される = *)"
   ]
  },
  {
   "cell_type": "code",
   "execution_count": 32,
   "id": "66f520e4",
   "metadata": {},
   "outputs": [
    {
     "data": {
      "text/html": [
       "<div><pre style=\"&#102;&#111;&#110;&#116;&#45;&#102;&#97;&#109;&#105;&#108;&#121;&#58;&#32;&#34;&#67;&#111;&#117;&#114;&#105;&#101;&#114;&#32;&#78;&#101;&#119;&#34;&#44;&#67;&#111;&#117;&#114;&#105;&#101;&#114;&#44;&#109;&#111;&#110;&#111;&#115;&#112;&#97;&#99;&#101;&#59;\">&#50;</pre></div>"
      ],
      "text/plain": [
       "2"
      ]
     },
     "execution_count": 32,
     "metadata": {
      "text/html": [],
      "text/plain": []
     },
     "output_type": "execute_result"
    }
   ],
   "source": [
    "a=2"
   ]
  },
  {
   "cell_type": "code",
   "execution_count": 33,
   "id": "d7efbb8b",
   "metadata": {},
   "outputs": [],
   "source": [
    "(* グラフィクスなど、実際の計算時に評価される := *)"
   ]
  },
  {
   "cell_type": "code",
   "execution_count": 34,
   "id": "2c0897d3",
   "metadata": {},
   "outputs": [],
   "source": [
    "(* 「:=」は関数の定義やパラメータの指定に便利。 *)"
   ]
  },
  {
   "cell_type": "code",
   "execution_count": 35,
   "id": "277f32e0",
   "metadata": {},
   "outputs": [],
   "source": [
    "b:=2"
   ]
  },
  {
   "cell_type": "code",
   "execution_count": 36,
   "id": "a2178944",
   "metadata": {},
   "outputs": [
    {
     "name": "stdout",
     "output_type": "stream",
     "text": [
      "2\n"
     ]
    }
   ],
   "source": [
    "Print[b]"
   ]
  },
  {
   "cell_type": "code",
   "execution_count": 37,
   "id": "3b8d3cdf",
   "metadata": {},
   "outputs": [],
   "source": [
    "(* 四則演算 *)"
   ]
  },
  {
   "cell_type": "code",
   "execution_count": 38,
   "id": "a5116a9a",
   "metadata": {},
   "outputs": [],
   "source": [
    "(* +,-,*,/   :足し算、引き算、かけ算、割り算 *)"
   ]
  },
  {
   "cell_type": "code",
   "execution_count": 39,
   "id": "49246a65",
   "metadata": {},
   "outputs": [],
   "source": [
    "(* 「*」はスペースでも良い。 *)"
   ]
  },
  {
   "cell_type": "code",
   "execution_count": 40,
   "id": "6b7ede49",
   "metadata": {},
   "outputs": [],
   "source": [
    "(* Sin[x]Cos[x] *)"
   ]
  },
  {
   "cell_type": "code",
   "execution_count": 41,
   "id": "f5987d52",
   "metadata": {},
   "outputs": [],
   "source": [
    "(* 7x *)"
   ]
  },
  {
   "cell_type": "code",
   "execution_count": 42,
   "id": "0d8775bf",
   "metadata": {},
   "outputs": [],
   "source": [
    "(* 関数の定義 *)"
   ]
  },
  {
   "cell_type": "code",
   "execution_count": 43,
   "id": "f8e3629b",
   "metadata": {},
   "outputs": [],
   "source": [
    "(* Wolfram Languageであらかじめて定義された関数や命令は大文字で始まる。「引き数」は[]で 囲む。 *)"
   ]
  },
  {
   "cell_type": "code",
   "execution_count": 44,
   "id": "58f12354",
   "metadata": {},
   "outputs": [],
   "source": [
    "(* Sin[x],Do[.....], ..., etc *)"
   ]
  },
  {
   "cell_type": "code",
   "execution_count": 45,
   "id": "7f286ade",
   "metadata": {},
   "outputs": [],
   "source": [
    "func1[x_]:=Sin[2*x]"
   ]
  },
  {
   "cell_type": "code",
   "execution_count": 46,
   "id": "f5339838",
   "metadata": {},
   "outputs": [],
   "source": [
    "(* アンダースコアは「_」はスカラーの引き数をあらわす。 *)"
   ]
  },
  {
   "cell_type": "code",
   "execution_count": 47,
   "id": "01a6e817",
   "metadata": {},
   "outputs": [],
   "source": [
    "func2[x_,y_]:=Sin[2*x]Cos[y]"
   ]
  },
  {
   "cell_type": "code",
   "execution_count": 48,
   "id": "35029a14",
   "metadata": {},
   "outputs": [],
   "source": [
    "(* アンダースコア2つは「__」はリストの引き数をあらわす。 *)"
   ]
  },
  {
   "cell_type": "code",
   "execution_count": 49,
   "id": "67ca04d7",
   "metadata": {},
   "outputs": [],
   "source": [
    "func2[x__]:=x/Length[x]"
   ]
  },
  {
   "cell_type": "code",
   "execution_count": 50,
   "id": "50eb47a7",
   "metadata": {},
   "outputs": [
    {
     "data": {
      "text/html": [
       "<div><pre style=\"&#102;&#111;&#110;&#116;&#45;&#102;&#97;&#109;&#105;&#108;&#121;&#58;&#32;&#34;&#67;&#111;&#117;&#114;&#105;&#101;&#114;&#32;&#78;&#101;&#119;&#34;&#44;&#67;&#111;&#117;&#114;&#105;&#101;&#114;&#44;&#109;&#111;&#110;&#111;&#115;&#112;&#97;&#99;&#101;&#59;\">&#123;&#49;&#44;&#32;&#50;&#44;&#32;&#51;&#125;</pre></div>"
      ],
      "text/plain": [
       "{1, 2, 3}"
      ]
     },
     "execution_count": 50,
     "metadata": {
      "text/html": [],
      "text/plain": []
     },
     "output_type": "execute_result"
    }
   ],
   "source": [
    "a={1,2,3}"
   ]
  },
  {
   "cell_type": "code",
   "execution_count": 51,
   "id": "a3f82d37",
   "metadata": {},
   "outputs": [
    {
     "data": {
      "text/html": [
       "<div><img alt=\"Output\" src=\"data:image/png;base64,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\"></div>"
      ],
      "text/plain": [
       " 1  2\n",
       "{-, -, 1}\n",
       " 3  3"
      ]
     },
     "execution_count": 51,
     "metadata": {
      "text/html": [],
      "text/plain": []
     },
     "output_type": "execute_result"
    }
   ],
   "source": [
    "func2[a]"
   ]
  },
  {
   "cell_type": "code",
   "execution_count": 52,
   "id": "59210ed5",
   "metadata": {},
   "outputs": [
    {
     "data": {
      "text/html": [
       "<div><pre style=\"&#102;&#111;&#110;&#116;&#45;&#102;&#97;&#109;&#105;&#108;&#121;&#58;&#32;&#34;&#67;&#111;&#117;&#114;&#105;&#101;&#114;&#32;&#78;&#101;&#119;&#34;&#44;&#67;&#111;&#117;&#114;&#105;&#101;&#114;&#44;&#109;&#111;&#110;&#111;&#115;&#112;&#97;&#99;&#101;&#59;\">&#123;&#49;&#44;&#32;&#50;&#44;&#32;&#51;&#44;&#32;&#52;&#44;&#32;&#53;&#44;&#32;&#54;&#44;&#32;&#55;&#44;&#32;&#56;&#44;&#32;&#57;&#44;&#32;&#49;&#48;&#125;</pre></div>"
      ],
      "text/plain": [
       "{1, 2, 3, 4, 5, 6, 7, 8, 9, 10}"
      ]
     },
     "execution_count": 52,
     "metadata": {
      "text/html": [],
      "text/plain": []
     },
     "output_type": "execute_result"
    }
   ],
   "source": [
    "a=Table[i,{i,10}]"
   ]
  },
  {
   "cell_type": "code",
   "execution_count": 53,
   "id": "c17f90ca",
   "metadata": {},
   "outputs": [
    {
     "data": {
      "text/html": [
       "<div><img alt=\"Output\" src=\"data:image/png;base64,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\"></div>"
      ],
      "text/plain": [
       " 1   1  3   2  1  3  7   4  9\n",
       "{--, -, --, -, -, -, --, -, --, 1}\n",
       " 10  5  10  5  2  5  10  5  10"
      ]
     },
     "execution_count": 53,
     "metadata": {
      "text/html": [],
      "text/plain": []
     },
     "output_type": "execute_result"
    }
   ],
   "source": [
    "func2[a]"
   ]
  },
  {
   "cell_type": "code",
   "execution_count": 54,
   "id": "98de8813",
   "metadata": {},
   "outputs": [],
   "source": [
    "(* 配列(リスト) *)"
   ]
  },
  {
   "cell_type": "code",
   "execution_count": 55,
   "id": "e5330073",
   "metadata": {},
   "outputs": [
    {
     "data": {
      "text/html": [
       "<div><pre style=\"&#102;&#111;&#110;&#116;&#45;&#102;&#97;&#109;&#105;&#108;&#121;&#58;&#32;&#34;&#67;&#111;&#117;&#114;&#105;&#101;&#114;&#32;&#78;&#101;&#119;&#34;&#44;&#67;&#111;&#117;&#114;&#105;&#101;&#114;&#44;&#109;&#111;&#110;&#111;&#115;&#112;&#97;&#99;&#101;&#59;\">&#123;&#123;&#49;&#44;&#32;&#50;&#125;&#44;&#32;&#123;&#51;&#44;&#32;&#52;&#125;&#44;&#32;&#123;&#53;&#44;&#32;&#54;&#125;&#125;</pre></div>"
      ],
      "text/plain": [
       "{{1, 2}, {3, 4}, {5, 6}}"
      ]
     },
     "execution_count": 55,
     "metadata": {
      "text/html": [],
      "text/plain": []
     },
     "output_type": "execute_result"
    }
   ],
   "source": [
    "a={{1,2},{3,4},{5,6}}"
   ]
  },
  {
   "cell_type": "code",
   "execution_count": 56,
   "id": "fc305ec6",
   "metadata": {},
   "outputs": [],
   "source": [
    "(* リストの長さ *)"
   ]
  },
  {
   "cell_type": "code",
   "execution_count": 57,
   "id": "cc71c89a",
   "metadata": {},
   "outputs": [
    {
     "data": {
      "text/html": [
       "<div><pre style=\"&#102;&#111;&#110;&#116;&#45;&#102;&#97;&#109;&#105;&#108;&#121;&#58;&#32;&#34;&#67;&#111;&#117;&#114;&#105;&#101;&#114;&#32;&#78;&#101;&#119;&#34;&#44;&#67;&#111;&#117;&#114;&#105;&#101;&#114;&#44;&#109;&#111;&#110;&#111;&#115;&#112;&#97;&#99;&#101;&#59;\">&#51;</pre></div>"
      ],
      "text/plain": [
       "3"
      ]
     },
     "execution_count": 57,
     "metadata": {
      "text/html": [],
      "text/plain": []
     },
     "output_type": "execute_result"
    }
   ],
   "source": [
    "Length[a]"
   ]
  },
  {
   "cell_type": "code",
   "execution_count": 58,
   "id": "0f6172f5",
   "metadata": {},
   "outputs": [
    {
     "data": {
      "text/html": [
       "<div><img alt=\"Output\" src=\"data:image/png;base64,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\"></div>"
      ],
      "text/plain": [
       "Dimensions[expr] gives a list of the dimensions of expr\n",
       " \n",
       ">    . Dimensions[expr, n] gives a list of the dimensions of expr down to level n. \n",
       "\n",
       "\n",
       "\n",
       "Attributes[Dimensions]={Protected}\n",
       "\n",
       "\n",
       "Options[Dimensions]={AllowedHeads -> Automatic}"
      ]
     },
     "execution_count": 58,
     "metadata": {
      "text/html": [],
      "text/plain": []
     },
     "output_type": "execute_result"
    }
   ],
   "source": [
    "?Dimensions"
   ]
  },
  {
   "cell_type": "code",
   "execution_count": 59,
   "id": "afff244a",
   "metadata": {},
   "outputs": [],
   "source": [
    "(* リストの長さ(2) *)"
   ]
  },
  {
   "cell_type": "code",
   "execution_count": 60,
   "id": "72d79ef2",
   "metadata": {},
   "outputs": [
    {
     "data": {
      "text/html": [
       "<div><pre style=\"&#102;&#111;&#110;&#116;&#45;&#102;&#97;&#109;&#105;&#108;&#121;&#58;&#32;&#34;&#67;&#111;&#117;&#114;&#105;&#101;&#114;&#32;&#78;&#101;&#119;&#34;&#44;&#67;&#111;&#117;&#114;&#105;&#101;&#114;&#44;&#109;&#111;&#110;&#111;&#115;&#112;&#97;&#99;&#101;&#59;\">&#123;&#51;&#44;&#32;&#50;&#125;</pre></div>"
      ],
      "text/plain": [
       "{3, 2}"
      ]
     },
     "execution_count": 60,
     "metadata": {
      "text/html": [],
      "text/plain": []
     },
     "output_type": "execute_result"
    }
   ],
   "source": [
    "Dimensions[a]"
   ]
  },
  {
   "cell_type": "code",
   "execution_count": 66,
   "id": "835aeaa7",
   "metadata": {},
   "outputs": [],
   "source": [
    "(* 配列の要素は[[]]で指定する *)"
   ]
  },
  {
   "cell_type": "code",
   "execution_count": 67,
   "id": "9fafd451",
   "metadata": {},
   "outputs": [
    {
     "data": {
      "text/html": [
       "<div><pre style=\"&#102;&#111;&#110;&#116;&#45;&#102;&#97;&#109;&#105;&#108;&#121;&#58;&#32;&#34;&#67;&#111;&#117;&#114;&#105;&#101;&#114;&#32;&#78;&#101;&#119;&#34;&#44;&#67;&#111;&#117;&#114;&#105;&#101;&#114;&#44;&#109;&#111;&#110;&#111;&#115;&#112;&#97;&#99;&#101;&#59;\">&#112;&#114;&#105;&#110;&#116;&#91;&#123;&#123;&#49;&#44;&#32;&#50;&#125;&#44;&#32;&#123;&#51;&#44;&#32;&#52;&#125;&#44;&#32;&#123;&#53;&#44;&#32;&#54;&#125;&#125;&#93;</pre></div>"
      ],
      "text/plain": [
       "print[{{1, 2}, {3, 4}, {5, 6}}]"
      ]
     },
     "execution_count": 67,
     "metadata": {
      "text/html": [],
      "text/plain": []
     },
     "output_type": "execute_result"
    }
   ],
   "source": [
    "print[a]"
   ]
  },
  {
   "cell_type": "code",
   "execution_count": 62,
   "id": "dc456a16",
   "metadata": {},
   "outputs": [
    {
     "data": {
      "text/html": [
       "<div><pre style=\"&#102;&#111;&#110;&#116;&#45;&#102;&#97;&#109;&#105;&#108;&#121;&#58;&#32;&#34;&#67;&#111;&#117;&#114;&#105;&#101;&#114;&#32;&#78;&#101;&#119;&#34;&#44;&#67;&#111;&#117;&#114;&#105;&#101;&#114;&#44;&#109;&#111;&#110;&#111;&#115;&#112;&#97;&#99;&#101;&#59;\">&#123;&#49;&#44;&#32;&#50;&#125;</pre></div>"
      ],
      "text/plain": [
       "{1, 2}"
      ]
     },
     "execution_count": 62,
     "metadata": {
      "text/html": [],
      "text/plain": []
     },
     "output_type": "execute_result"
    }
   ],
   "source": [
    "a[[1]]"
   ]
  },
  {
   "cell_type": "code",
   "execution_count": 63,
   "id": "e8086c63",
   "metadata": {},
   "outputs": [
    {
     "data": {
      "text/html": [
       "<div><pre style=\"&#102;&#111;&#110;&#116;&#45;&#102;&#97;&#109;&#105;&#108;&#121;&#58;&#32;&#34;&#67;&#111;&#117;&#114;&#105;&#101;&#114;&#32;&#78;&#101;&#119;&#34;&#44;&#67;&#111;&#117;&#114;&#105;&#101;&#114;&#44;&#109;&#111;&#110;&#111;&#115;&#112;&#97;&#99;&#101;&#59;\">&#54;</pre></div>"
      ],
      "text/plain": [
       "6"
      ]
     },
     "execution_count": 63,
     "metadata": {
      "text/html": [],
      "text/plain": []
     },
     "output_type": "execute_result"
    }
   ],
   "source": [
    "a[[3,2]]"
   ]
  },
  {
   "cell_type": "code",
   "execution_count": 68,
   "id": "10e456bb",
   "metadata": {},
   "outputs": [],
   "source": [
    "(* 配列の生成 *)"
   ]
  },
  {
   "cell_type": "code",
   "execution_count": 69,
   "id": "f76add1a",
   "metadata": {},
   "outputs": [
    {
     "data": {
      "text/html": [
       "<div><img alt=\"Output\" src=\"data:image/png;base64,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\"></div>"
      ],
      "text/plain": [
       "{Sin[1], Sin[2], Sin[3]}"
      ]
     },
     "execution_count": 69,
     "metadata": {
      "text/html": [],
      "text/plain": []
     },
     "output_type": "execute_result"
    }
   ],
   "source": [
    "Table[Sin[j],{j,3}]"
   ]
  },
  {
   "cell_type": "code",
   "execution_count": 70,
   "id": "af494243",
   "metadata": {},
   "outputs": [],
   "source": [
    "(* ループは外側から変化する。 *)"
   ]
  },
  {
   "cell_type": "code",
   "execution_count": 71,
   "id": "0b741034",
   "metadata": {},
   "outputs": [
    {
     "data": {
      "text/html": [
       "<div><img alt=\"Output\" src=\"data:image/png;base64,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\"></div>"
      ],
      "text/plain": [
       "{{2 Sin[1], 2 Sin[2]}, {3 Sin[1], 3 Sin[2]}, {4 Sin[1], 4 Sin[2]}}"
      ]
     },
     "execution_count": 71,
     "metadata": {
      "text/html": [],
      "text/plain": []
     },
     "output_type": "execute_result"
    }
   ],
   "source": [
    "Table[j*Sin[k],{j,2,4},{k,2}]"
   ]
  },
  {
   "cell_type": "code",
   "execution_count": 72,
   "id": "951da504",
   "metadata": {},
   "outputs": [],
   "source": [
    "(* 行列積(内積)「.」 *)"
   ]
  },
  {
   "cell_type": "code",
   "execution_count": 73,
   "id": "68385e19",
   "metadata": {},
   "outputs": [
    {
     "data": {
      "text/html": [
       "<div><pre style=\"&#102;&#111;&#110;&#116;&#45;&#102;&#97;&#109;&#105;&#108;&#121;&#58;&#32;&#34;&#67;&#111;&#117;&#114;&#105;&#101;&#114;&#32;&#78;&#101;&#119;&#34;&#44;&#67;&#111;&#117;&#114;&#105;&#101;&#114;&#44;&#109;&#111;&#110;&#111;&#115;&#112;&#97;&#99;&#101;&#59;\">&#123;&#123;&#97;&#48;&#44;&#32;&#98;&#48;&#125;&#44;&#32;&#123;&#99;&#48;&#44;&#32;&#100;&#48;&#125;&#125;</pre></div>"
      ],
      "text/plain": [
       "{{a0, b0}, {c0, d0}}"
      ]
     },
     "execution_count": 73,
     "metadata": {
      "text/html": [],
      "text/plain": []
     },
     "output_type": "execute_result"
    }
   ],
   "source": [
    "a={{a0,b0},{c0,d0}}"
   ]
  },
  {
   "cell_type": "code",
   "execution_count": 74,
   "id": "ed0683ef",
   "metadata": {},
   "outputs": [
    {
     "data": {
      "text/html": [
       "<div><pre style=\"&#102;&#111;&#110;&#116;&#45;&#102;&#97;&#109;&#105;&#108;&#121;&#58;&#32;&#34;&#67;&#111;&#117;&#114;&#105;&#101;&#114;&#32;&#78;&#101;&#119;&#34;&#44;&#67;&#111;&#117;&#114;&#105;&#101;&#114;&#44;&#109;&#111;&#110;&#111;&#115;&#112;&#97;&#99;&#101;&#59;\">&#123;&#118;&#49;&#44;&#32;&#118;&#50;&#125;</pre></div>"
      ],
      "text/plain": [
       "{v1, v2}"
      ]
     },
     "execution_count": 74,
     "metadata": {
      "text/html": [],
      "text/plain": []
     },
     "output_type": "execute_result"
    }
   ],
   "source": [
    "v={v1,v2}"
   ]
  },
  {
   "cell_type": "code",
   "execution_count": 75,
   "id": "f088e037",
   "metadata": {},
   "outputs": [
    {
     "data": {
      "text/html": [
       "<div><img alt=\"Output\" src=\"data:image/png;base64,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\"></div>"
      ],
      "text/plain": [
       "{a0 v1 + b0 v2, c0 v1 + d0 v2}"
      ]
     },
     "execution_count": 75,
     "metadata": {
      "text/html": [],
      "text/plain": []
     },
     "output_type": "execute_result"
    }
   ],
   "source": [
    "a.v"
   ]
  },
  {
   "cell_type": "code",
   "execution_count": 76,
   "id": "346fc2aa",
   "metadata": {},
   "outputs": [
    {
     "data": {
      "text/html": [
       "<div><img alt=\"Output\" src=\"data:image/png;base64,iVBORw0KGgoAAAANSUhEUgAAADwAAAARCAIAAAAOrFjNAAAAznpUWHRSYXcgcHJvZmlsZSB0eXBlIGV4aWYAAHjabU/bDQMhDPtnio6QBzgwDnelUjfo+E0O1IqqlnCM84Ck8Xo+0i0gTCkXq2gAOXLLTbqLShMzMrWLL+i5crz7iZfg7lb5JjCWf+y+YUapP4NI1kvxgmvNq2ENUpk+93k/Vr30WvdBjTbk+vn6/7uaoIAtO2chMzTXNbn0gCJUDA+cgBcy7kL59Dhg5m2wqNAejQEZtlePBHXjHitoHNGu7CrYt1K6dFF1JoUczu3Ssc4bVuFauVZ7dkYAAAAJcEhZcwAACxMAAAsTAQCanBgAAAA8dEVYdFNvZnR3YXJlAENyZWF0ZWQgd2l0aCB0aGUgV29sZnJhbSBMYW5ndWFnZSA6IHd3dy53b2xmcmFtLmNvbVyipoUAAAAhdEVYdENyZWF0aW9uIFRpbWUAMjAyMjoxMDoxMyAwMDo1MzowNmY/D/gAAAJoSURBVEiJ7ZY7aOpQGMePrZRiBaXoZhaRgBqcFBcfk+BSXKRCCbi0Tk6Ogri5uARExEmxRUUchHbp4hBKhy7tYMEX0qJgCIiBqNFWkw6CiGI0Ve69w/1v53uc3/98nDxEHMcB4aIoSiaTiUSiX/TujzsS2l+v120229XVlU6nq1arh7a3G44TKJqm2+02x3HxeDwcDgttPwhO8KSlUqlKpQIAVCoVBEEOO9ddcTyn/Pz8TCaTTqezUCispPL5/MXFBcuyBxxqIpGwWq0QBLlcrkajwYPjM53NZj0ej1wuxzBsOX57e+twOIbD4QEdPzw8IAhyf3+P47jT6TQYDDw4gOO40WicTCbzdafT0el0BEEsKsxm87Lpx8dHAIDZbLZYLB6PR6g5HtxsNpsHn5+fAQCj0WgTDkwmE6VSWSwW5+tIJGK325cxK6Z3VLlc/vj4WI9vxXEcl8lkIAji2fzo5OTE6/WmUqn5FU+n09fX1/s/QO/v7yRJrse34miaDoVCgUCAZ3MxAODm5kav13e73VarRZKk2+3ex+7r6ytFUbVa7fj4eDAYQBCk0WiWC3hw39/fl5eXarXa7/dvMQ3DsNVqvbu7azabKIqenp7uY5ogCJIk+/0+QRASieTs7GylYBNuOp2iKNput5+ensRiMR9jfktyuZxWqz0/P397e5tHWJZlGIZhGJPJFI1GGYb5+vra/U7HYrGXl5dN2XXceDx2uVwwDFer1V6v1+v1eN5OYNGjUCiMRuMi0Wq1Vo7n8/l2N10qlWq12qbsOg7DsBVcMBjc1C7ifvXD9Hcl+DP+L+i/6T+lHxFKruXImE27AAAAAElFTkSuQmCC\"></div>"
      ],
      "text/plain": [
       "  2     2\n",
       "v1  + v2"
      ]
     },
     "execution_count": 76,
     "metadata": {
      "text/html": [],
      "text/plain": []
     },
     "output_type": "execute_result"
    }
   ],
   "source": [
    "v.v"
   ]
  },
  {
   "cell_type": "code",
   "execution_count": 77,
   "id": "15c541fa",
   "metadata": {},
   "outputs": [],
   "source": [
    "(* Wolfram Languageでは行ベクトルと列ベクトルを区別しない。 *)"
   ]
  },
  {
   "cell_type": "code",
   "execution_count": 78,
   "id": "6a39f0f6",
   "metadata": {},
   "outputs": [
    {
     "data": {
      "text/html": [
       "<div><img alt=\"Output\" src=\"data:image/png;base64,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\"></div>"
      ],
      "text/plain": [
       "{a0 v1 + c0 v2, b0 v1 + d0 v2}"
      ]
     },
     "execution_count": 78,
     "metadata": {
      "text/html": [],
      "text/plain": []
     },
     "output_type": "execute_result"
    }
   ],
   "source": [
    "v.a"
   ]
  },
  {
   "cell_type": "code",
   "execution_count": 79,
   "id": "51efd0e5",
   "metadata": {},
   "outputs": [],
   "source": [
    "(* くり返しの例 *)"
   ]
  },
  {
   "cell_type": "code",
   "execution_count": 80,
   "id": "eec922e8",
   "metadata": {},
   "outputs": [
    {
     "data": {
      "text/html": [
       "<div><img alt=\"Output\" src=\"data:image/png;base64,iVBORw0KGgoAAAANSUhEUgAAAA0AAAAhCAIAAACN57ZmAAAAzXpUWHRSYXcgcHJvZmlsZSB0eXBlIGV4aWYAAHjabU/RbUQhDPtnihshJMGBcXj3OKkbdPwzB2pFVUvEjkkCSeP765UeE5oleYmKBgjhzZt2iioLi7O0T1y4N+fTT7pF7rTK7wXG9q/TDyzW+meQ6BI2X6A23w17kOnyc1/5teu113oOanLA68/X/88tFAU5nNFVItCoa6IkoaiUwAtPgIUZt4o/yQMRbEPMCuuzcUJHnNUjwWjccwWbR61bppqRW5l8dDHfzsW8UdPnOm9VRVq3xDTgsQAAAAlwSFlzAAALEwAACxMBAJqcGAAAADx0RVh0U29mdHdhcmUAQ3JlYXRlZCB3aXRoIHRoZSBXb2xmcmFtIExhbmd1YWdlIDogd3d3LndvbGZyYW0uY29tXKKmhQAAACF0RVh0Q3JlYXRpb24gVGltZQAyMDIyOjEwOjEzIDAwOjU0OjEzkpnyjwAAAUxJREFUOI3NU7uKg1AQvcqCREQs/AER0oiYwi7YpNdCIiZteisbf0Ls0uQDUoV8QH7CxmChQpq0EtE8CDJbuJhEXeJWm9OdOefOvTN3BgMA1ANfz+R8Pu92u+12S5Lkcrn81Xc8Htfr9X6/p2m6mRBacF13PB43gnifxyGE/sv3Uu/tdgOA+/1eluX1esUwjCCIH+25KFmWn48xDFNLWM//+PS+/LF/eZ5nWdaWaZqmKOrhi+PY9/22bzQaSZKEEPr0/r3My2az8TyvppZlmabZ4QvDEAAcx6moIAjd+dI0FUVRVdU396ZpGgTBfD4nCELTNF3Xu+sYDoc8z08mk7IsTdNcrVYPrb2/FQzDUBTl/f7KslwURUe+JEmm0+nhcACAKIo4jrNtu1YfvtPptFgsBoMBy7I4js9ms6IoOnwVLpdLFEV5njfifeflG8pZF8ZL8SOtAAAAAElFTkSuQmCC\"></div>"
      ],
      "text/plain": [
       "1\n",
       "-\n",
       "5"
      ]
     },
     "execution_count": 80,
     "metadata": {
      "text/html": [],
      "text/plain": []
     },
     "output_type": "execute_result"
    }
   ],
   "source": [
    "x=1/5"
   ]
  },
  {
   "cell_type": "code",
   "execution_count": 81,
   "id": "4e32b2e8",
   "metadata": {},
   "outputs": [
    {
     "name": "stdout",
     "output_type": "stream",
     "text": [
      "    1\n",
      "Sin[--]\n",
      "    25\n",
      "     1\n",
      "Sin[---]\n",
      "    625\n",
      "      1\n",
      "Sin[------]\n",
      "    390625\n",
      "         1\n",
      "Sin[------------]\n",
      "    152587890625\n",
      "               1\n",
      "Sin[-----------------------]\n",
      "    23283064365386962890625\n"
     ]
    }
   ],
   "source": [
    "Do[x=x^2;Print[Sin[x]],{i,5}]"
   ]
  },
  {
   "cell_type": "code",
   "execution_count": 82,
   "id": "fff80cd2",
   "metadata": {},
   "outputs": [],
   "source": [
    "(* くり返す命令は「;」で区切る。くり返しの範囲「{...}」は「,」で区切る。 *)"
   ]
  },
  {
   "cell_type": "code",
   "execution_count": 83,
   "id": "4ee10b5e",
   "metadata": {},
   "outputs": [],
   "source": [
    "(* 関数のプロット *)"
   ]
  },
  {
   "cell_type": "code",
   "execution_count": 84,
   "id": "eea2f183",
   "metadata": {},
   "outputs": [
    {
     "data": {
      "text/html": [
       "<div><img alt=\"Output\" src=\"data:image/png;base64,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\"></div>"
      ],
      "text/plain": [
       "-Graphics-"
      ]
     },
     "execution_count": 84,
     "metadata": {
      "text/html": [],
      "text/plain": []
     },
     "output_type": "execute_result"
    }
   ],
   "source": [
    "Plot[Sin[4x],{x,-Pi/2,Pi/2}]"
   ]
  },
  {
   "cell_type": "code",
   "execution_count": 86,
   "id": "d1343f25",
   "metadata": {},
   "outputs": [
    {
     "data": {
      "text/html": [
       "<div><img alt=\"Output\" src=\"data:image/png;base64,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\"></div>"
      ],
      "text/plain": [
       "-Graphics3D-"
      ]
     },
     "execution_count": 86,
     "metadata": {
      "text/html": [],
      "text/plain": []
     },
     "output_type": "execute_result"
    }
   ],
   "source": [
    "Plot3D[Sin[Pi x]Sin[Pi y],{x,-1,1},{y,-1,1}]"
   ]
  },
  {
   "cell_type": "code",
   "execution_count": 87,
   "id": "64c167f2",
   "metadata": {},
   "outputs": [],
   "source": [
    "(* グラフの合成 *)"
   ]
  },
  {
   "cell_type": "code",
   "execution_count": 88,
   "id": "eef5337a",
   "metadata": {},
   "outputs": [
    {
     "data": {
      "text/html": [
       "<div><img alt=\"Output\" src=\"data:image/png;base64,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\"></div>"
      ],
      "text/plain": [
       "-Graphics-"
      ]
     },
     "execution_count": 88,
     "metadata": {
      "text/html": [],
      "text/plain": []
     },
     "output_type": "execute_result"
    }
   ],
   "source": [
    "g1=Plot[Sin[x],{x,0,Pi}]"
   ]
  },
  {
   "cell_type": "code",
   "execution_count": 89,
   "id": "1064ea8b",
   "metadata": {},
   "outputs": [
    {
     "data": {
      "text/html": [
       "<div><img alt=\"Output\" src=\"data:image/png;base64,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\"></div>"
      ],
      "text/plain": [
       "-Graphics-"
      ]
     },
     "execution_count": 89,
     "metadata": {
      "text/html": [],
      "text/plain": []
     },
     "output_type": "execute_result"
    }
   ],
   "source": [
    "g2=Plot[1+Cos[x],{x,Pi,2Pi}]"
   ]
  },
  {
   "cell_type": "code",
   "execution_count": 90,
   "id": "a621b99a",
   "metadata": {},
   "outputs": [],
   "source": [
    "(* 変数にグラフィクスオブジェクトをセットすることができる。さらにそれらを使ってグラフの合成ができる。*)"
   ]
  },
  {
   "cell_type": "code",
   "execution_count": 92,
   "id": "1ee0bbd5",
   "metadata": {},
   "outputs": [
    {
     "data": {
      "text/html": [
       "<div><img alt=\"Output\" src=\"data:image/png;base64,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\"></div>"
      ],
      "text/plain": [
       "-Graphics-"
      ]
     },
     "execution_count": 92,
     "metadata": {
      "text/html": [],
      "text/plain": []
     },
     "output_type": "execute_result"
    }
   ],
   "source": [
    "Show[g1,g2,PlotRange->All]"
   ]
  },
  {
   "cell_type": "code",
   "execution_count": 93,
   "id": "4764a546",
   "metadata": {},
   "outputs": [],
   "source": [
    "(* リストのプロット *)"
   ]
  },
  {
   "cell_type": "code",
   "execution_count": 94,
   "id": "18eb8533",
   "metadata": {},
   "outputs": [],
   "source": [
    "(* 1次元リスト *)"
   ]
  },
  {
   "cell_type": "code",
   "execution_count": 97,
   "id": "9ced78de",
   "metadata": {},
   "outputs": [
    {
     "data": {
      "text/html": [
       "<div><img alt=\"Output\" src=\"data:image/png;base64,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\"></div>"
      ],
      "text/plain": [
       "    -1 + Sqrt[5]       5   Sqrt[5]   1 + Sqrt[5]       5   Sqrt[5]\n",
       "{0, ------------, Sqrt[- - -------], -----------, Sqrt[- + -------], 1, \n",
       "         4             8      8           4            8      8\n",
       " \n",
       "         5   Sqrt[5]   1 + Sqrt[5]       5   Sqrt[5]   -1 + Sqrt[5]\n",
       ">   Sqrt[- + -------], -----------, Sqrt[- - -------], ------------, 0}\n",
       "         8      8           4            8      8           4"
      ]
     },
     "execution_count": 97,
     "metadata": {
      "text/html": [],
      "text/plain": []
     },
     "output_type": "execute_result"
    }
   ],
   "source": [
    "a=Table[Sin[Pi j/10],{j,0,10}]"
   ]
  },
  {
   "cell_type": "code",
   "execution_count": 98,
   "id": "5470ff31",
   "metadata": {},
   "outputs": [
    {
     "data": {
      "text/html": [
       "<div><img alt=\"Output\" src=\"data:image/png;base64,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\"></div>"
      ],
      "text/plain": [
       "-Graphics-"
      ]
     },
     "execution_count": 98,
     "metadata": {
      "text/html": [],
      "text/plain": []
     },
     "output_type": "execute_result"
    }
   ],
   "source": [
    "ListPlot[a]"
   ]
  },
  {
   "cell_type": "code",
   "execution_count": 99,
   "id": "9a47a590",
   "metadata": {},
   "outputs": [],
   "source": [
    "(* \"Joined->True\"で点を順番につなぐ *)"
   ]
  },
  {
   "cell_type": "code",
   "execution_count": 100,
   "id": "0724d7ba",
   "metadata": {},
   "outputs": [
    {
     "data": {
      "text/html": [
       "<div><img alt=\"Output\" src=\"data:image/png;base64,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\"></div>"
      ],
      "text/plain": [
       "-Graphics-"
      ]
     },
     "execution_count": 100,
     "metadata": {
      "text/html": [],
      "text/plain": []
     },
     "output_type": "execute_result"
    }
   ],
   "source": [
    "ListPlot[a,Joined->True]"
   ]
  },
  {
   "cell_type": "code",
   "execution_count": 101,
   "id": "6fbe1c6a",
   "metadata": {},
   "outputs": [],
   "source": [
    "(* 2次元リスト *)"
   ]
  },
  {
   "cell_type": "code",
   "execution_count": 102,
   "id": "e07f7c14",
   "metadata": {},
   "outputs": [
    {
     "data": {
      "text/html": [
       "<div><img alt=\"Output\" src=\"data:image/png;base64,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\"></div>"
      ],
      "text/plain": [
       "          1 + Sqrt[5]       5   Sqrt[5]     -1 + Sqrt[5]       5   Sqrt[5]\n",
       "{{1, 0}, {-----------, Sqrt[- - -------]}, {------------, Sqrt[- + -------]}, \n",
       "               4            8      8             4             8      8\n",
       " \n",
       "     1 - Sqrt[5]       5   Sqrt[5]     -1 - Sqrt[5]       5   Sqrt[5]\n",
       ">   {-----------, Sqrt[- + -------]}, {------------, Sqrt[- - -------]}, {-1, 0}, \n",
       "          4            8      8             4             8      8\n",
       " \n",
       "     -1 - Sqrt[5]        5   Sqrt[5]     1 - Sqrt[5]        5   Sqrt[5]\n",
       ">   {------------, -Sqrt[- - -------]}, {-----------, -Sqrt[- + -------]}, \n",
       "          4              8      8             4             8      8\n",
       " \n",
       "     -1 + Sqrt[5]        5   Sqrt[5]     1 + Sqrt[5]        5   Sqrt[5]\n",
       ">   {------------, -Sqrt[- + -------]}, {-----------, -Sqrt[- - -------]}, {1, 0}}\n",
       "          4              8      8             4             8      8"
      ]
     },
     "execution_count": 102,
     "metadata": {
      "text/html": [],
      "text/plain": []
     },
     "output_type": "execute_result"
    }
   ],
   "source": [
    "a=Table[{Cos[2Pi j/10],Sin[2Pi j/10]},{j,0,10}]"
   ]
  },
  {
   "cell_type": "code",
   "execution_count": 103,
   "id": "02c1be9b",
   "metadata": {},
   "outputs": [
    {
     "data": {
      "text/html": [
       "<div><img alt=\"Output\" src=\"data:image/png;base64,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\"></div>"
      ],
      "text/plain": [
       "-Graphics-"
      ]
     },
     "execution_count": 103,
     "metadata": {
      "text/html": [],
      "text/plain": []
     },
     "output_type": "execute_result"
    }
   ],
   "source": [
    "ListPlot[a]"
   ]
  },
  {
   "cell_type": "code",
   "execution_count": 104,
   "id": "c2e2d598",
   "metadata": {},
   "outputs": [],
   "source": [
    "(* \"Joined->True\"で点を順番につなぐ *)"
   ]
  },
  {
   "cell_type": "code",
   "execution_count": 105,
   "id": "fa30e460",
   "metadata": {},
   "outputs": [],
   "source": [
    "(* 和 *)"
   ]
  },
  {
   "cell_type": "code",
   "execution_count": 106,
   "id": "567fb65e",
   "metadata": {},
   "outputs": [],
   "source": [
    "(* 級数 *)"
   ]
  },
  {
   "cell_type": "code",
   "execution_count": 107,
   "id": "34935051",
   "metadata": {},
   "outputs": [
    {
     "data": {
      "text/html": [
       "<div><img alt=\"Output\" src=\"data:image/png;base64,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\"></div>"
      ],
      "text/plain": [
       "Sin[1] + Sin[2] + Sin[3] + Sin[4] + Sin[5]"
      ]
     },
     "execution_count": 107,
     "metadata": {
      "text/html": [],
      "text/plain": []
     },
     "output_type": "execute_result"
    }
   ],
   "source": [
    "Sum[Sin[n],{n,5}]"
   ]
  },
  {
   "cell_type": "code",
   "execution_count": 108,
   "id": "cd42c8a8",
   "metadata": {},
   "outputs": [
    {
     "data": {
      "text/html": [
       "<div><img alt=\"Output\" src=\"data:image/png;base64,iVBORw0KGgoAAAANSUhEUgAAABQAAAAkCAIAAAAGkY33AAAAz3pUWHRSYXcgcHJvZmlsZSB0eXBlIGV4aWYAAHjabU/rjYMhDPvPFDdCXiQwDl9LpW7Q8c8p6E5UtUTsOCGQMl/PR/lJCFOxGs27OwHWrcuAaLSwmKm/40ps1/j0i+wCD1j1v+Bz+9fphy+W9jGIZAnNF6B1D449SGX5PFZ+7X4ZrZ2DOh2w9vf177mGeHUOQzShCO/QrUCCvArV8Iff3NHIfheyG3h6BK55ZIeOvJiQGWf3LK4w7rmC5hEdylAZsRUUQ5MqommXC7q/nVznFxRTWo8/3HUhAAAACXBIWXMAAAsTAAALEwEAmpwYAAAAPHRFWHRTb2Z0d2FyZQBDcmVhdGVkIHdpdGggdGhlIFdvbGZyYW0gTGFuZ3VhZ2UgOiB3d3cud29sZnJhbS5jb21coqaFAAAAIXRFWHRDcmVhdGlvbiBUaW1lADIwMjI6MTA6MTMgMDE6MDM6NDn8e1OpAAACCklEQVRIie2Tz8spYRTHH4ZsJrLxK1OyQQkLsjHJIAkbKWXJ1gLZz8pSVv4CJWVpJZtZWqpREzUrGyUTY0yZ4rkLb/cd7x2G7u52z2rmOc9nznfOOV8NhBC8EYfDwWQyaTSah1OoFqvVCsfxbDbr9XoZhpGn1OHT6bTZbCCE/X6fJEl5SqsqGEVRp9MJAFgul36//zPZ9xiNRoVC4Xa7fSYbQjgYDNLp9Pl8/nGuDk+nUwBANBqNxWLlclme0kDZqOr1+m63Ox6PLpeLZVmLxRKJRBqNxtN+/KlwPB5DCKvVKsdxr0X97DZFUTiOAwB4njebza8H8QCLoshxnNVqBQDodDrVKT7AzWazXq/fny+XC1Tb3G+43W57PB6CIO6viURiMBiolP7999vtVt4MSZJ4nn/dsIdRfRrqu/3vwV+bIAgCz/NvMkajEUXRb5hl2cVi8SYcCoWCwSAA4P+oZEFRFEEQGIalUqnZbPYBPJ/Pc7lcPp+fTCalUommaeUKinbJZDKtVuu1pZ66ymazDYdDQRAYhgmHw8lk8t3KoigCANxudyaTKRaLBoOh0+koVlaAJUlCEKTb7d5fe72e3W5XhBUaptfrMQzTar9S0Wh0v98rL6LiJ0mS9Pl8NE1fr9darRaPx9+VDSEUBKFSqSAIYjQaA4HAer1WvPbKGHefOhyOZxf+ylW/ABMr8l3QvJzMAAAAAElFTkSuQmCC\"></div>"
      ],
      "text/plain": [
       "  2\n",
       "Pi\n",
       "---\n",
       " 6"
      ]
     },
     "execution_count": 108,
     "metadata": {
      "text/html": [],
      "text/plain": []
     },
     "output_type": "execute_result"
    }
   ],
   "source": [
    "Sum[1/n^2,{n,Infinity}]"
   ]
  },
  {
   "cell_type": "code",
   "execution_count": 109,
   "id": "169d594e",
   "metadata": {},
   "outputs": [
    {
     "data": {
      "text/html": [
       "<div><pre style=\"&#102;&#111;&#110;&#116;&#45;&#102;&#97;&#109;&#105;&#108;&#121;&#58;&#32;&#34;&#67;&#111;&#117;&#114;&#105;&#101;&#114;&#32;&#78;&#101;&#119;&#34;&#44;&#67;&#111;&#117;&#114;&#105;&#101;&#114;&#44;&#109;&#111;&#110;&#111;&#115;&#112;&#97;&#99;&#101;&#59;\">&#123;&#49;&#44;&#32;&#50;&#44;&#32;&#51;&#44;&#32;&#52;&#44;&#32;&#53;&#44;&#32;&#54;&#44;&#32;&#55;&#44;&#32;&#56;&#44;&#32;&#57;&#44;&#32;&#49;&#48;&#125;</pre></div>"
      ],
      "text/plain": [
       "{1, 2, 3, 4, 5, 6, 7, 8, 9, 10}"
      ]
     },
     "execution_count": 109,
     "metadata": {
      "text/html": [],
      "text/plain": []
     },
     "output_type": "execute_result"
    }
   ],
   "source": [
    "a=Table[i,{i,10}]"
   ]
  },
  {
   "cell_type": "code",
   "execution_count": 110,
   "id": "7f42576c",
   "metadata": {},
   "outputs": [
    {
     "data": {
      "text/html": [
       "<div><pre style=\"&#102;&#111;&#110;&#116;&#45;&#102;&#97;&#109;&#105;&#108;&#121;&#58;&#32;&#34;&#67;&#111;&#117;&#114;&#105;&#101;&#114;&#32;&#78;&#101;&#119;&#34;&#44;&#67;&#111;&#117;&#114;&#105;&#101;&#114;&#44;&#109;&#111;&#110;&#111;&#115;&#112;&#97;&#99;&#101;&#59;\">&#53;&#53;</pre></div>"
      ],
      "text/plain": [
       "55"
      ]
     },
     "execution_count": 110,
     "metadata": {
      "text/html": [],
      "text/plain": []
     },
     "output_type": "execute_result"
    }
   ],
   "source": [
    "Plus@@a"
   ]
  },
  {
   "cell_type": "code",
   "execution_count": 111,
   "id": "c96e6a60",
   "metadata": {},
   "outputs": [],
   "source": [
    "(* リストの操作 *)"
   ]
  },
  {
   "cell_type": "code",
   "execution_count": 112,
   "id": "c2aca0e8",
   "metadata": {},
   "outputs": [],
   "source": [
    "Clear[a,b,c,d,e]"
   ]
  },
  {
   "cell_type": "code",
   "execution_count": 113,
   "id": "161d9790",
   "metadata": {},
   "outputs": [],
   "source": [
    "(* リストの定義 *)"
   ]
  },
  {
   "cell_type": "code",
   "execution_count": 114,
   "id": "48bc72ae",
   "metadata": {},
   "outputs": [
    {
     "data": {
      "text/html": [
       "<div><pre style=\"&#102;&#111;&#110;&#116;&#45;&#102;&#97;&#109;&#105;&#108;&#121;&#58;&#32;&#34;&#67;&#111;&#117;&#114;&#105;&#101;&#114;&#32;&#78;&#101;&#119;&#34;&#44;&#67;&#111;&#117;&#114;&#105;&#101;&#114;&#44;&#109;&#111;&#110;&#111;&#115;&#112;&#97;&#99;&#101;&#59;\">&#123;&#97;&#44;&#32;&#98;&#44;&#32;&#99;&#44;&#32;&#100;&#44;&#32;&#101;&#125;</pre></div>"
      ],
      "text/plain": [
       "{a, b, c, d, e}"
      ]
     },
     "execution_count": 114,
     "metadata": {
      "text/html": [],
      "text/plain": []
     },
     "output_type": "execute_result"
    }
   ],
   "source": [
    "list={a,b,c,d,e}"
   ]
  },
  {
   "cell_type": "code",
   "execution_count": 115,
   "id": "ea03ce80",
   "metadata": {},
   "outputs": [],
   "source": [
    "(* 左シフト *)"
   ]
  },
  {
   "cell_type": "code",
   "execution_count": 116,
   "id": "f5ba99b1",
   "metadata": {},
   "outputs": [
    {
     "data": {
      "text/html": [
       "<div><pre style=\"&#102;&#111;&#110;&#116;&#45;&#102;&#97;&#109;&#105;&#108;&#121;&#58;&#32;&#34;&#67;&#111;&#117;&#114;&#105;&#101;&#114;&#32;&#78;&#101;&#119;&#34;&#44;&#67;&#111;&#117;&#114;&#105;&#101;&#114;&#44;&#109;&#111;&#110;&#111;&#115;&#112;&#97;&#99;&#101;&#59;\">&#123;&#123;&#97;&#44;&#32;&#98;&#44;&#32;&#99;&#44;&#32;&#100;&#44;&#32;&#101;&#125;&#44;&#32;&#123;&#98;&#44;&#32;&#99;&#44;&#32;&#100;&#44;&#32;&#101;&#44;&#32;&#97;&#125;&#44;&#32;&#123;&#99;&#44;&#32;&#100;&#44;&#32;&#101;&#44;&#32;&#97;&#44;&#32;&#98;&#125;&#44;&#32;&#123;&#100;&#44;&#32;&#101;&#44;&#32;&#97;&#44;&#32;&#98;&#44;&#32;&#99;&#125;&#44;&#32;&#123;&#101;&#44;&#32;&#97;&#44;&#32;&#98;&#44;&#32;&#99;&#44;&#32;&#100;&#125;&#44;&#32;&#10;&#32;&#10;&#62;&#32;&#32;&#32;&#123;&#97;&#44;&#32;&#98;&#44;&#32;&#99;&#44;&#32;&#100;&#44;&#32;&#101;&#125;&#125;</pre></div>"
      ],
      "text/plain": [
       "{{a, b, c, d, e}, {b, c, d, e, a}, {c, d, e, a, b}, {d, e, a, b, c}, {e, a, b, c, d}, \n",
       " \n",
       ">   {a, b, c, d, e}}"
      ]
     },
     "execution_count": 116,
     "metadata": {
      "text/html": [],
      "text/plain": []
     },
     "output_type": "execute_result"
    }
   ],
   "source": [
    "Table[RotateLeft[list,i],{i,0,5}]"
   ]
  },
  {
   "cell_type": "code",
   "execution_count": 117,
   "id": "e66cc895",
   "metadata": {},
   "outputs": [],
   "source": [
    "(* 右シフト *)"
   ]
  },
  {
   "cell_type": "code",
   "execution_count": 118,
   "id": "7e8d1b8c",
   "metadata": {},
   "outputs": [
    {
     "data": {
      "text/html": [
       "<div><pre style=\"&#102;&#111;&#110;&#116;&#45;&#102;&#97;&#109;&#105;&#108;&#121;&#58;&#32;&#34;&#67;&#111;&#117;&#114;&#105;&#101;&#114;&#32;&#78;&#101;&#119;&#34;&#44;&#67;&#111;&#117;&#114;&#105;&#101;&#114;&#44;&#109;&#111;&#110;&#111;&#115;&#112;&#97;&#99;&#101;&#59;\">&#123;&#123;&#97;&#44;&#32;&#98;&#44;&#32;&#99;&#44;&#32;&#100;&#44;&#32;&#101;&#125;&#44;&#32;&#123;&#101;&#44;&#32;&#97;&#44;&#32;&#98;&#44;&#32;&#99;&#44;&#32;&#100;&#125;&#44;&#32;&#123;&#100;&#44;&#32;&#101;&#44;&#32;&#97;&#44;&#32;&#98;&#44;&#32;&#99;&#125;&#44;&#32;&#123;&#99;&#44;&#32;&#100;&#44;&#32;&#101;&#44;&#32;&#97;&#44;&#32;&#98;&#125;&#44;&#32;&#123;&#98;&#44;&#32;&#99;&#44;&#32;&#100;&#44;&#32;&#101;&#44;&#32;&#97;&#125;&#44;&#32;&#10;&#32;&#10;&#62;&#32;&#32;&#32;&#123;&#97;&#44;&#32;&#98;&#44;&#32;&#99;&#44;&#32;&#100;&#44;&#32;&#101;&#125;&#125;</pre></div>"
      ],
      "text/plain": [
       "{{a, b, c, d, e}, {e, a, b, c, d}, {d, e, a, b, c}, {c, d, e, a, b}, {b, c, d, e, a}, \n",
       " \n",
       ">   {a, b, c, d, e}}"
      ]
     },
     "execution_count": 118,
     "metadata": {
      "text/html": [],
      "text/plain": []
     },
     "output_type": "execute_result"
    }
   ],
   "source": [
    "Table[RotateRight[list,i],{i,0,5}]"
   ]
  },
  {
   "cell_type": "code",
   "execution_count": 119,
   "id": "bb7ed822",
   "metadata": {},
   "outputs": [
    {
     "data": {
      "text/html": [
       "<div><img alt=\"Output\" src=\"data:image/png;base64,iVBORw0KGgoAAAANSUhEUgAAArcAAABaCAIAAAAtuulVAAAA0XpUWHRSYXcgcHJvZmlsZSB0eXBlIGV4aWYAAHjadY/bbUQhDET/qWJL8APGUA53l5XSQcrf4UIUESkjYQ8H28hpfH+902PKVFIuUdEAoXLLzTpNlaWVVdodb10htunBU+nLaCcqvw8Ym18nD6xs9c+gPV98/kDveTfsQW6L6/7w2vXWaz0HNTmUf9bSf+4ehgKNzJhNItDoa6JlQjEpgTeeAAsVL5P8ZB6IYBtiVnifjVM24qweCU7wmiv4PObdlW5GbkWn9OJgJLCLvt1krvMBpcla8CMthQsAAAAJcEhZcwAACxMAAAsTAQCanBgAAAA8dEVYdFNvZnR3YXJlAENyZWF0ZWQgd2l0aCB0aGUgV29sZnJhbSBMYW5ndWFnZSA6IHd3dy53b2xmcmFtLmNvbVyipoUAAAAhdEVYdENyZWF0aW9uIFRpbWUAMjAyMjoxMDoxMyAwMTowNjozMhM27NQAACAASURBVHic7Z15WBPX+seHyBb2gChlC5aIiAqVimjB61VblooLFipYFx4K6uPVx1pBXNteKC69hv4hFR4pFy0ugA/WItz7tFrrvoEPvSrcKnsEpCYIiSwBEub3R55fzJ1JJpNZQzifv5Iz55z3PfPOd3Iyc+YdMxiGIQAAAAAAAAAU5mw7AAAYFyUlJTKZjG0v9MPn8yMjI9n2AgDQCZCSaQBmCQDA/yCVSjdt2sS2FwDAmAdIyTQAswQA4A3Dw8PW1tYsOnDy5Mnh4WGtm6ZNm7Zw4UKG/QEAiMGulICOKATMEgCANzQ3N0+ZMoUt6319febm5klJSWw5AABQBYtSAjqiFg7bDgAARkRDQ4NAIGDL+q1bt8LCwtiyDgBQCItSAjqiFjBLAADe0NnZ+dZbb7FlvaWlhcUrGQAAhbAoJaAjagGzBIoZGBj46aefkpKStmzZwrYvACKYmZlpfi0vLw/XoLS0lAEfWDGqi3v37q1YsYLP58+aNesf//gH3eaAgshQU1MTGxvL5/Pnzp1bXl7OrjOaUgI6GruAdQkU09nZee7cufr6egcHB7Z9AVDAH3/8AcPw7t27VV9nzJhBk6H+/n47OzuGjeoFhuGDBw8uXrw4Kyvr4cOHKSkp3t7eq1evps8iUBBhXr9+nZCQsG3btgMHDlRWVq5evfrRo0cBAQFs+wVB415HYxowS6AYgUBQUlKSk5Nz4cIFtn0BUEBPT8+sWbOWLVtGt6Hbt2+/9957DBvVi5mZWUVFhepzYGCgUCjs6uqi1SJQEGHs7e2fPXvG4XAgCAoODi4oKKipqTGSWcI419GYZpzOErZu3SoWi6VSqY+PT1NT06RJk0JCQj777DO2/QJoh5l4jYyMWFpaIgp7enrq6uoSExOtrKyWL1++atUqao2qaWpqioiIYNgoTmQy2ZMnT86ePSuRSBISEhBbgZqMB9UUAYIgmUz28uXLadOmISqwJSWgo7GLlnUJppGzGXsUubm5y5YtS0lJyc/P9/b2zs3NBSc14wEdO2bi1dLS4uPjgyj08/Pz9fVdvHixUqlcvXp1QUEBeUMwDJeWlmZmZuqqQIdRg9xDlJw7d27hwoXfffddenr6pEmTEFuBmtgC4yyXnp4eEhIyd+5cRDlbUhqHOjIdYA2++uqrNWvWXLlyBR7L4BzFp59+2tXVBcNwXFwc5T4IhcKwsDDKuzVaCgsLP/744zNnzpDsByN2tMZLRVVV1fPnzzEqxMfHL1iwgLyh+/fv3759+9SpUzU1NaqS/v7+kydPEjbKwP5XKpXXrl3z9PTMzs5Gb6U8OqaqIAYiBcNwXl6ek5PTf//7X61bWZeSyevIxHhzx6GiooLL5Z45c4bFKQt5cI5iYGDg1atXkydPhiDI3Hyc3nZBQCZbWXJycnJy8rp16xYsWODl5UXMAYzYMROv9vb26OhojApz5syhZJm06h/evHnzdu7c+e6770IQdPfuXfXNVAJG6d7/EARxOJyFCxempKRUVVXt3btXc9O4UhPJpH4MROrMmTM7d+68dOmSv78/eqsxSMm0dWR6vDlKnjx5snLlShZdoQSco9ixY8fWrVtVn4eGhmAYRjz/RhhVbyMjI0qlUi6Xm5mZWVlZYTd5/vy5h4eH+oYiK+DMVvb69euRkRFnZ2etWyMiIurr6wmrCyN29MVLE3S3LS0tu3btEgqF3t7eTU1N+fn5FN7a5HA40dHRlZWVMTExz549W7JkCUmjdOz/5ubmjRs3CoXCwMBAsVhcUVERFBSEqENtdAgoCGJKRPiT+rGllO+//37btm2nTp165513Xr16xeFwnJycNCuwIqVxpSPT442olEoleunWmAPPKNLS0qZNm7Z48WLV10WLFhUXF1PlQHh4OJfL3b17971797hcrpubm94mBw4cYHeKAOHOVtbf33/kyBFdWy0tLZVKJWEfdMWO1nhh4+Li4uDg4O/v7+rq6ufnFxoainETlAARERFXr15F7DTCRunY/+7u7kFBQUuWLHF0dHR3d+fxeIgDgPLoEFAQxJSI8Cf1Y0UpnZ2dGzdulMvlq1evdnFxcXFxmTNnjmYFtqQ0rnRkepj45UGtpKenqy64qdi8ebNcLqeq8+rqaoPqt7e3u7q6UmWdMC0tLVFRUXqrubm5iUQimv5/6ILWeGHj4OBQWFj43XffdXR0uLm52draUm4iKSkpLy9P/YQ3M0bxY21tLRQKhUJhe3u7vb29o6MjogLl0TFUQRCDIsIpE4glpbi7u4+OjmJUYEtKQEdjGlyz78HBwWfPnqm/KpXKffv2+fv7BwcHFxYWGmoSo3ldXZ1CoTC0Q0PR1AkEQRYWFvb29nQb1cW5c+c++ugjPDWZyUmnN1tZSEjIjRs36HMADTPxUiqVFhYWWjdZW1v7+vrSdJYJDAx8/Pjx/PnzmTRKAE9PT/QUATIONSFExIBS8CT1Y14pemFXSkBHYxT91xJqa2v37t2blpbm5+enKvn6668vXLhQVFQkkUg2bNjg5ua2dOlS/CYxmldXV+/cubOystLk10CpuX79elpaGp6a9OWkMyhb2apVqw4fPmx6r15tbW3l8/msmM7KykI/XgjAD0JENCnF0KR+pqoUvbAlJaAjmtD/Y1xVVXXw4MHZs2erS/Ly8vLz81Wzti1bthw/ftygWQJG86SkJKVSef36dfUKFNNmcHCQw+HgvCZJX046g7KV+fj4SCQSah0wBhobG7WuCWcAcGojA1pENCnF0KR+pqoUvbAlJaAjmnhzx2FgYEDrP3gYhjWvSslksj///HPevHnFxcXXrl2bP39+Q0MDfnt6m9vZ2Q0NDRk+ED2jME7a2toon3T/9ttvbW1tBjVpamry9fVVfe7p6fn9998TExOTkpJ0nWRhHblczM3NBwYGDDKtCbuxE4lEY31V85je/4QhLCJDlWKoTCATVYpeKJESgfMYVZCMjunxZpZQV1enVWyI5TCq2TGPx0tPTz906BCPxxOLxfjt4WlOZn2prlEYJ21tbehkfySpq6t7+fKlrq0wFdnKHBwcXr16hS4PDg6+cuUKMbchtmM3OjrK+pMmJBnT+58whEWEoRRKZAKZqFL0QomUsM9jtEIyOqaHOQRBYrE4IyMjPDwcfen77t27NTU1+/btU5eongCWSqWnT5+eNGlSR0eHi4sLfnt6m4eEhOzatWvGjBlvv/22QSPBGEVfX59MJsPflYODg+ZaWZzosoLRW2trK+IEV1tb29vbq/7q5eUlEAhwOqBq+/Tp0wkTJvT19WltW11d7eXlNTQ09PDhQ1UekoGBARsbG3WFjIwM1YfU1NShoaHi4uLU1FREJx4eHq2trehnwadMmWJvb79nz56srCyD/utgxE6hUGg9WVhYWNC9rH1wcLCnpwddbmNjg3gGHcIduM7OTpJeubi46MofQMf+l0gkupIIYePq6qprNSgGusxh9IYWkV70KoUSmUDMKqW/v18qleLvSo2dnR3dr9/s7e3V+u+cx+NxuVxEIZ7z2NDQUHd3N0mv3N3dtZYTjo6pYg5B0ODgYGdnp9aV9mKx2MrKasKECeoSJycnJyen2trayMhICIIuXbqEkOiLFy+4XC76NIqzOZfLlcvl6J9b7G6xR9HU1PT777/raojmnXfeQaSO0Wsdwwq6NzUKhQJxxu/q6tL8UTRoaa6qbU9PT1dXl42Njda2lGQrMzMz0/XAlZ2dXX19vVKp1FQXmdj19fVdvnwZXc7j8ZYvX65ZgidGBtHZ2Xnr1i10uUAgQD80jydwSqVS61gM4oMPPtB1doNo2P/V1dXE/tJ9+OGHiGkcngDpMofuTQ1aRHrRqxSqkvoxqZS2tjYCD5FCEDRjxgxEWgXKpfT48ePm5mZ0+V/+8pcpU6YgCvGcx16+fHn16lWSXq1fv17XmjBi0TFZ1Lmao6OjteZw3r9/f2Njo2bJ1q1bw8PD+/v7RSKRp6dnUVGRelNPTw+Xy504caIqq5dWMJqrLvSVl5cjmuDpFnsUZMBv3VAqKytPnDiBs7JcLh8cHDx8+PC8efMGBwflcrnWaseOHXvw4IHe3n7++edLly7BMHz8+HF1YXNzc1xcXFtbGwzDjY2NU6ZM2blzJ7rthg0bxGIxuryrq2vDhg2IQmZiRzJGSqWyoKCAsHUjgcX9rxcmRUShUsjIBDZKpejFSKSE8zxGBySjY3q8uXsUEBDQ3t6OnkZYWlrC/7sGJzMzU3W9d+rUqVFRUWvXrlVvsrW1nTlzpkQi0cyvgACjuWrWYm1tjWiCp1vsUZABv3VD8fHxefHiBc7KOHPSeXl5aX2uHQGZbGW9vb0TJ05El9+7d0/9zlY1zMQOv5WOjo6jR48iCkUikbe3NzHTxgOL+18vTIqIQqWQTOpnhErRi5FICed5jA5IRsf0eHM5xdHRUWseLg6Hg3jogMfjXb16tbu728rKCnHH3cLC4vz587Nnz0a/1xxPcwiChoeH0VeB8HSLPQoy4LduKHw+H7/acV5OXLFiBc4OCWcr03WvTi6Xoy/HMRM7nFbu379/584dS0vLp0+fatZsaGjAv/7DaGFx/+uFSRFRqxQySf2MUCl6MRIp4T+PUQ7J6Jge+leiRkZGfvnll48ePUKUu7i4oH/jW1tbExISEhMT9S5c0tr8119/LSoqmjVrFuFu6YA+63Z2dvivJVAOsWxlYrHYoLVOzMQOp5XQ0NAdO3asW7euoqJCs1wkEhnzonEysKsdBtygW0SEk/oZp1KocmO8SclIosMK+mcJc+bM+eKLL3CmB6mrq0tKSsrNzSXmjUKhOHv2rKenJ7XdqtCVt7WjoyM2NpbP50dERDx58gTdkJj19PT0+Ph4vdVCQ0Nra2sN6plCsrKyDJ0aX7x4MS4uDn99SmKnNyGuQVZ4PB7i4QWFQqG5RFeToaGh7du3CwQCPz+/9PR0mjKI02eFkv0PkZAPYTdwKgiiX0QEZAKxpBQEeDJJk3EDv5SY0RF9huiIzlgB12MegYGBOLszKAkjGtWDD5R3q0Jr3lYYhqOioubOnVtVVVVWVrZo0aK2tjbNR56IWS8qKsrLy8PzqF5CQsKpU6c0U1syCYFsZTdu3CgqKsJfn5LY6U2Ia6gVX19fzSQ5GHzzzTeXL18uLy/v6+tbt24dn89Xv3iXQuizQsn+h0jIh5gb+BUE0S8iYkn9WFEKAjyZpEm6gVNKzOiIPkN0RGesMLbTyBiEKm8r4t3wN2/eFIlEubm5M2fOzMzMdHFxKSsrI2no8ePHaWlpON9SKhAIRCIRSYuMIZVKeTwe888QqxPiqjA0lwaaFStW/PTTT3hqtre3v//++0FBQWFhYTExMS0tLSRNs2iFDIzJBzJQQZBRiogtpSCgXDhocEqJsSPc+KU05nhzEHM4HAbex0g3ho6ioaEhMDBwdHQ0Ozs7JSUlNDTUoITTaPr6+uLj47Ozs/Ev9N2+fftYSfw3PDz8+eef69qqVCrJvCcXI3Y9PT11dXWJiYlWVlbLly9ftWoVYSsqJk6cqL6JBsMwxs5fs2bN0qVL/f39o6KiLl26dPbsWZKm6bNC3/7XBeXygQgpCDI+EbGlFASUCwcNTikxoyNKDJGMjunxJqICgUBrDpmxhaGjkEgkPB7vwYMH+/fvr6ysdHZ2JvmCltTU1MDAwM2bN+NvEhwcbDxnN2xcXV0x8tzdunVr6tSphDvHiB3OhLgGwefzVYninz9/jl4KoyYgIGDq1KkHDhzw9fUVCASI/DNUQYkV+va/LiiXD0RIQZDxiYgtpSCgQzho8EiJGR1RYohkdEyPN7qKi4urrq7etGnTgwcPWHSIJIaOwtnZWSaThYWF/fDDD3FxcVKpFJ1OFT9FRUUlJSXTp0/PyckpLy+XSqU5OTlaE7mbGD/++GNiYqK3tzeZh6AwYpeRkXHmzJnU1NTi4uLY2Nji4mJy/kIQBK1cufLixYsQBDU2Nupye3R0NDIyMiYmRiKR/PLLL83NzYb+euGBvBW6978uqJUPNA4UxHCk6BAOGr1SYkZH5A1REh0TBJFl6fXr1729vYwmdqIBjFEIhcKwsDD118uXL7u4uAwPD6u+BgUF5efnE7Z7+vTp9f/PkiVLbG1t169f/+LFC8IdjhUkEglVKcn0HoFHjhwJDg6mxNaePXtgGC4sLFQfAAhU18+7u7tVXy9cuODo6EiJaWqtMLb/aZUPPA4UxKRSEFAoHDTYUmJGR+QNURgdUwI5SzBhtOZtHRkZ8fDwOHToEAzDpaWl1tbWEomEEnNVVVU+Pj6UdDXOwZ8Q11Byc3Pb29sxfthkMpmlpaVQKFQoFMPDwxs3bgwICKDENPNWSMKwfGCgINLQJxw02FJi7AgfE1Iac4yjWQLiBpWTk5Oq/ObNm6oEag4ODufPn6fKHDjHUYVUKk1OTlYlUedwOAkJCf39/ZT03NHRcezYMey/v2VlZZMnT+bxePb29gKB4M6dO5SYZsUKGRiWDwwURBr6hINGr5QYO8KNX0pjDjP4f9/RMD6BYbi9vd3d3V1Xah0A68jlcr0JcQmwd+9ePp+/adMmjDowDHd2dlpYWBB7bh4nzFihAyAfY4Ym4aDRKyXGjvCxKyXjBLw8G4IgyMzMzMvLi20vAFioEuJS3q2bm5uud/uqMTMz8/DwoNw0K1boAMjHmKFJOGj0SomxI3zsSsk4MaJnhwAA5lm5cqVJpp0HABgGSMlUAXccAOMduVyOflk5AAAwFCAlkwTMEgAAAAAAAGgH3HEAAAAAAACgHTBLAAAAAAAAoB0wSwAAAAAAAKAdMEsAAAAAAACgHTBLAAAAAAAAoB0wSwAAAAAAAKAdMEsAAAAAAACgHTBLAAAAAAAAoB3wHgejoKSkRCaTse2Ffvh8fmRkJNteAAA6AVICAKgFzBKMAqlUiv1aQgAAgAcgJQCAWsAsgX2Gh4fZTX5+8uTJ4eFhrZumTZu2cOFChv0BAIjBrpSAjgAmCZglsE9zc/OUKVPYst7X12dubp6UlMSWAwAAVbAoJaAjgKkCVi+yT0NDg0AgYMv6rVu3wsLC2LIOAFAIi1ICOgKYKmCWwD6dnZ1vvfUWW9ZbWlpYvJIBAFAIi1ICOgKYKuP3jsO9e/cOHTr0+++/Ozg4rF+/Pj09nUVnzMzMNL+Wl5d/++236q/btm1bvXo13T6wYlQrra2ta9eu1SzhcDg3btygz+LAwMDly5d//PFHGxub48eP02fItElPT29tbT1//jyLPmhKaZzrSEVra2t6evr9+/f5fP6+ffuioqJoNQekZHqM01kCDMMHDx5cvHhxVlbWw4cPU1JSvL292RWzJn/88QcMw7t371Z9nTFjBk2G+vv77ezsGDaql0mTJmVkZKi/ZmRkvPPOO7Ra7OzsPHfuXH19vYODA62GTJiioqK8vDxXV1e2HXnDONcRBEGjo6PR0dHh4eE///xzVVVVbGzstWvXQkND6bMIpGR6jNNZgpmZWUVFhepzYGCgUCjs6upi1yVNenp6Zs2atWzZMroN3b59+7333mPYqF5sbGzUbpSUlCiVyhMnTtBqUSAQlJSU5OTkXLhwgVZDpsrjx4/T0tIyMzOPHTvGti9vGOc6giCosbHxjz/+qKmpsbW1nT59+p07d7799tuSkhL6LAIpmR6kZglbt24Vi8VSqdTHx6epqWnSpEkhISGfffYZVc7RjUwme/LkydmzZyUSSUJCAmIrM6MbGRmxtLREFPb09NTV1SUmJlpZWS1fvnzVqlXUGlXT1NQUERHBsFH8KBSKjIyMo0ePqv+oqRnrx54p0dfXFx8fn52d7e3trbUCW1ICOrK1tYUgqL6+PiQkBIIgPp+PvnMHpATQA4yb0dFRdGFxcfH58+dhGE5OTn716hX+3hhGq/P5+fnm5uYQBB09epSt0T19+vTq1auIwsOHD69Zs+bEiRNr1641Nzc/ceIEeUOjo6MlJSV///vfNQuPHz9Oq1GD3EMXlpSU+Pj4KBQKrU0oj45QKAwLCyPfj2mDjlRCQkJ8fDwMw1VVVT4+PlpbsSIloCMYhv/yl78IBIJ9+/bFxsba29sLBAJ0KyAlAAa4ZglfffXVmjVrrly5gt706aefdnV1wTAcFxdHrWeFhYUff/zxmTNnSPaD4TwMw0ql8tq1a56entnZ2eit9I1OTVVV1fPnzzEqxMfHL1iwgLyh+/fv3759+9SpUzU1NaqS/v7+kydPEjbKQIDWrVu3adMmXQ0pj46pntpojdQ///lPCIK++OILoVCYnJzM4/GEQmF3dzeiLetSGrc6ev369ZEjRzZv3nzy5MmcnJz3338f3RZIiTxUxZFdtI5C/x2HiooKLpd75swZ9KaBgYFXr15NnjwZgiDVn3IKSU5OTk5OXrdu3YIFC7y8vIh1guG8Cg6Hs3DhwpSUlKqqqr1792puonV0atrb26OjozEqzJkzp7S0lLyhuXPnQhA0b968nTt3vvvuuxAE3b17V30zlYBRBgJ048aNzMxMrZuYiY6RQDKpH62RsrS0XL9+fWtrKwRBHR0dw8PD//nPfxDeGoOUxq2O7Ozsdu3apfq8YsWK6dOnIyqMKylhYAwqYx2to9B/TDx58mTlypVaN+3YsWPr1q2qz0NDQzAMI57oI09ERER9fT3hna7L+ebm5o0bNwqFwsDAQLFYXFFRERQUhKjDwOggCEJ329LSsmvXLqFQ6O3t3dTUlJ+fT+GtTQ6HEx0dXVlZGRMT8+zZsyVLlpA0SlOAIAhSKpXPnz/Xdaub2uioehgZGVEqlXK53MzMzMrKSm+r58+fe3h4cDj0Jh3Bn9Tv9evXIyMjzs7OWrfSFKlPPvnkk08+UX3+17/+9be//e3UqVOIOqxICehIRXFx8ZIlS9zd3U+fPv3vf/+7vr4eUYF1KTGjI2yMRGVGAmIU+gOjVCrRy+sgCEpLS5s2bdrixYtVXxctWlRcXEyhoyosLS2VSiXh5rqcd3d3DwoKWrJkiaOjo7u7O4/HO3LkiGYFZkanFRcXFwcHB39/f1dXVz8/v9DQUF3/p4kRERFx9epVxF4lbJSmAEEQJBaLR0dHtT5ZR3l0wsPDuVzu7t277927x+Vy3dzc8LQ6cOAAA6c2/En9+vv7EYexJvRFChu2pAR0BEHQ6OjolStXfHx87O3td+zYce7cOURuSmOQEjM6wsZIVGYkIEZB/PpSenq66iKVis2bN8vlclKuMYi1tbVQKBQKhe3t7fb29o6OjogKLI7OwcGhsLDwu+++6+jocHNzU61SppakpKS8vDzNBwcYMGoobm5uMAxr3UR5dKqrqw1t0t7ezkxugJaWFpyZcNzc3EQiEU3/1PHw4YcftrS0IArZkhLQEQRBHA7n1KlTJ06c6O7ufuutt9AHButSYkxH2IwhlTEP8Rmc5rEFQZCFhYW9vT2BfgYGBn766aekpKQtW7YQdoYwnp6e6CkCRN3osFEqlRYWFlo3WVtb+/r60nSWCQwMfPz48fz585k0SiHMRAebc+fOffTRR+qvDBzG5eXl4RpoveEdEhJCa5JKArArJaAjCIKsrKzc3d21/qqxLiWEjjBg5peCdZUNDg4+e/aMqt6USuW+ffv8/f2Dg4MLCws1N9XV1SkUCjydsL9WZTzn6mptbeXz+ayYzsrKmjRpEiumTYPr16+npaWpv9J0GBua1G/VqlWHDx8ehy8pZktKQEckQegIA/p+KYxHZbW1tXv37k1LS/Pz86Okw6+//vrChQtFRUUSiWTDhg1ubm5Lly5Vbaqurt65c2dlZaXeJavszxLGc66uxsZGf39/VkyDUxsZBgcHORyO5p8zmg5jQ5P6+fj4SCQSCh0YK7AlJaAjMqB1hAF9vxTGo7KqqqqDBw/Onj2bqg7z8vLy8/NVl7u2bNly/Phx9SwhKSlJqVRev35dvfZWF/pnCQMDAyw+HmNubj4wMEC4ObvO60UkEn3wwQckO/ntt9/efvtttq5JmHaAdNHW1kZshxsaLAJJ/XQt5jDtSFEiJRYx7ejogrCOMCBwPjQelcEwjLjjQyYzpkwm+/PPP+fNm1dcXOzl5TV//vyysjLNCnZ2dkNDQ3pHoX9dQl1dHVu/QBAEBQcHX7lyhXBzdp3Xy+joKPnFvXV1dS9fvqTEHwKYdoB00dbW5uPjQ6AhRrBgGC4tLcVYEu/n5+fr67t48WKlUrl69eqCggKt1RwcHF69eoUuN+1IUSIlFjHt6OiCsI4wwD4fGrnKRkdHESW5ubnLli1LSUnJz8/39vbOzc3FnzxbdcGDx+Olp6cfOnSIx+OJxWJEHa1PZCBGgTX9FIvFGRkZ4eHh6CtCIyMjaHsQBFlaWk6cOBHnGPAwZcoUe3v7PXv2ZGVlGTRZJuC8XigfHZqBgYHe3l50ua2tLXqVZW1tbW9v79OnTydMmNDX1+fl5YV4zAmCIBiGX7x4QdKriRMn6noKjo4ASSQSXelNsHF1ddW1GhQDXeYwemttbTX07KY3WNXV1V5eXkNDQw8fPlSl6xkYGLCxsVFXUL8nMzU1dWhoqLi4ODU1FW3Iw8OjtbUV/Tw3HZHq6+uTyWT4u1Jjb29P9yq5np6ewcFBdLmzs7O1tTWiUBUd9VetUpLL5Vp/GAzC3d1dazkd0SGsfQ6Hg/NhYDzmMHpD6whPIHSB53xotCqDIOju3bs1NTX79u1DlF+7di07OxuCIJlMxuPx8Heock8qlZ4+fXrSpEkdHR0uLi6aFUJCQnbt2jVjxoy3334bYxRYwxgcHOzs7NS6AFUmk12+fBld7uLiEhMTo1ny4sULLpfr5OSEf2wI7Ozs6uvrlUqlprd6uyXgvF7oGB2Cjo6OO3fuoMv9/PzQS6m7urpevnzZ09PT1dVlY2OjdU21QqEgNlhNIiMjMc4alAfo/v37xG77xcTEIGSAJ0C6zKF7U6NQKfAdAQAACSFJREFUKPCkXdJEb7CoSupnZmaG/keigvJItba2Pnz4UFdDDGbNmhUcHKxZQrmUHj16pMoIieCvf/0r+m+3Kjrqr1ql9PLly99++42kVxs2bNC1ifLoENa+paVlYmKiZgme6Ogyh+5NswlCR3gCoQs850OjVRkEQWKx2MrKasKECZqF2Jkxsbt1cnJycnKqra2NjIyEIOjSpUuIORmXy5XL5Von+v8zCr2JnaOjowknhe7p6eFyuRMnTlQl5NKKXC4fHBw8fPjwvHnzBgcH5XK55taurq4NGzYQ6FYFGef1gt8NrSiVyoKCAvJuHDt27MGDB+T7IYYJBwiDyspKxFt8sA9jNXiC9fPPP1+6dAn+33cINTc3x8XFtbW1wTDc2Ng4ZcqUnTt3am2+YcMGsViMLjfhSFElJRYx4ehggNYRBhRKDDZWle3fv7+xsVGzZOPGjb/++qvqc2xsrObbvPB0u3Xr1vDw8P7+fpFI5OnpWVRUpLm1tLS0vLxc7yj038kLCAhob2/XW00rtra2M2fOlEgkGA+AYufqunfvnnpdiUHdkndeL/jd6OjoOHr0KKJQJBLpSj9sEF5eXlpTPjCDaQTIUHx8fBAXV3GmnMMTLJJJ/Xp7e7XeFzONSNEqJRYxjegYClpHGFAoMchYVWZpaQlrrIvEzoyJp9vMzEwLCwtXV9epU6dGRUWtXbtWcysMw+i7b+hR6L9x4ujoSDgbl4WFxfnz52fPnj1t2jRddbBzdcnlcvTlFDzdqiDjvF5wunH//v07d+5YWlo+ffpUs2ZDQwP+W24YrFixgnwnhDGBABGAz+cjTso4U87hDBaZpH66biOaQKTolhKLmEB0CIDWEQbUSgwySpVxOBzNhw6wM2Pi6ZbH4129erW7u9vKykpzpCqGh4e1PoaKGAW9q4JbW1sTEhISExMJrCljvlua3AgNDd2xY8e6desqKio0y0Ui0VhcloyHsRUgAtjZ2ZFfE4oB4aR+YrHYoJwzYytS401KYys6BKBbR9gYocoiIyO//PLLR48eqb5iZ8bE362Liwt6ivDrr78WFRXNmjVLr/+kZgk1NTWxsbF8Pn/u3Lnl5eXoCnV1dUlJSbm5uWSsMNMtnsScZNzg8Xg9PT2aJQqFArFQRc3Q0ND27dsFAoGfn196ejrOPJqGQp8VqgKkKydrR0eH6sCLiIh48uQJhW6kp6fHx8fjqRkaGlpbW4u/Z0PJysoi8Nft4sWLcXFx+OubtpSY0RF9hsaujiDcUqJbR9gYm8rmzJnzxRdf4Fy7TfLwUCgUZ8+e9fT01FuTeCKO169fJyQkbNu27cCBA5WVlatXr3706FFAQIBmHXWaJ2qho1s8iTlJuuHr69vU1OTr66u35jfffHP58uXy8vK+vr5169bx+Xz1q10phD4rVAVIa05WGIajoqLmzp1bVVVVVla2aNGitrY2zWeZCLtRVFSUl5eH890zCQkJp06dojBLGgJiSf1u3LhRVFSEv75pS4kZHdFnaIzqCDJESnTrCBsjVFlgYCAd3aJRPfiAB+KzBHt7+2fPnqkymQQHBxcUFNTU1CBmCWMIPIk5SbJixYoffvjh888/11uzvb39/fffDwoKgiAoJiYG/Z49SmDGChm05mS9efOmSCR68OABl8udOXNmWVlZWVkZnhfDY/P48eO0tLTMzMxjx47h9E0kEpE0Si1SqZTH47Geg894pMTYEW7kUmJSR5CBUjJCHWFjJCpjEv1D5XA4ui6gqZOdyWSyly9fUr62BYIgpVJJ5gWdGM4jwJmYkwwTJ05UX0qCYRgjVdyaNWuWLl3q7+8fFRV16dKls2fPUu4MVVYYC5CahoaGwMDA0dHR7OzslJSU0NDQhoYGwg6o6Ovri4+Pz87ONmip/Pbt240q5d/w8DDGD+c4lBIzOqLEkGnoCCIkJWPTETa0qsxIQIxCf2AEAsGtW7ew66Snp4eEhKgSVlDLrVu3pk6dSrg5HudV4EzMSRI+n9/W1gZB0PPnzzFuCAUEBEydOvXAgQO+vr4CgWDOnDl0OEOJFcYCpEYikfB4vAcPHuzfv7+ystLZ2Zn8m1dSU1MDAwM3b95sUKvg4GCjOrW5urpiZIQch1JiRkeUGDINHUGEpGRsOsKGVpUZCYhR6I9NXFxcdXX1pk2bHjx4oLVCfn5+WVnZ999/T+0c6scff0xMTPT29ibzjJNe59VkZGScOXMmNTW1uLg4NjZW87FUClm5cuXFixchCGpsbNQ1rtHR0cjIyJiYGIlE8ssvvzQ3Nxv664UH8lYYDpAaZ2dnmUwWFhb2ww8/xMXFSaVSdJ5UgygqKiopKZk+fXpOTk55eblUKs3JySGfi9d4GJ9SYkZH5A2ZjI6gcSAlDCiJI+toHwV2Kig1r1+/7u3tRZefPn3axsZGnRyKQiQSCVWpvnQ5r4sjR44EBwdTYhrNnj17YBguLCwcHh7WWkF13a+7u1v19cKFC46OjpS7Qd4KYwESCoVhYWHqr5cvX3ZxcVHvvaCgoPz8fDLWT58+vf7/WbJkia2t7fr161+8eEGmT6NifEqJGR2RN2QyOoLHgZQwoDCOLKJ1FHhnCVopKCiwtrYuLS3t7u7u7u7u6ekh0xuL4E/MSZ7c3Nz29nYMQcpkMktLS6FQqFAohoeHN27cGBAQQLkbzFghidacrCMjIx4eHocOHYJhuLS01NraWiKRUGWxqqrKx8eHqt7GIcYjJcaOcOOXEvM6goGUTAjis4SOjg7ELQZfX18KPWMSqVSanJysyonN4XASEhL6+/tpstXR0XHs2DHsaXtZWdnkyZN5PJ69vb1AILhz5w4dnjBjhQyI+7tOTk6q8ps3b6oyozk4OJw/f55Ci+DURhKjkhJjR7iRS4l5HcFASiaEGayRNXqcI5fL9SbmpIS9e/fy+fxNmzZh1IFhuLOz08LCgtgTvThhxgodwDDc3t7u7u6uKzMVgEWMR0qMHeFjVEpARwC9jKOHPvWiSszJgCE3Nzddbx1VY2Zm5uHhQbcnzFihAzMzMy8vL7a9AGjHeKTE2BE+RqUEdATQy5h5/sSUWLlypUmmnQcAGAZICQCgG3DHgR3kcrnWV3YCAACDAFICAGjl/wCjgFBTnqop6gAAAABJRU5ErkJggg==\"></div>"
      ],
      "text/plain": [
       "          Pi  -1 + Sqrt[5]    Pi       5   Sqrt[5]     3 Pi  1 + Sqrt[5]\n",
       "{{0, 0}, {--, ------------}, {--, Sqrt[- - -------]}, {----, -----------}, \n",
       "          10       4          5        8      8         10        4\n",
       " \n",
       "     2 Pi       5   Sqrt[5]     Pi       3 Pi       5   Sqrt[5]     7 Pi  1 + Sqrt[5]\n",
       ">   {----, Sqrt[- + -------]}, {--, 1}, {----, Sqrt[- + -------]}, {----, -----------}, \n",
       "      5         8      8        2         5         8      8         10        4\n",
       " \n",
       "     4 Pi       5   Sqrt[5]     9 Pi  -1 + Sqrt[5]\n",
       ">   {----, Sqrt[- - -------]}, {----, ------------}, {Pi, 0}}\n",
       "      5         8      8         10        4"
      ]
     },
     "execution_count": 119,
     "metadata": {
      "text/html": [],
      "text/plain": []
     },
     "output_type": "execute_result"
    }
   ],
   "source": [
    "a=Table[{Pi(i-1)/10,Sin[Pi(i-1)/10]},{i,11}]"
   ]
  },
  {
   "cell_type": "code",
   "execution_count": 120,
   "id": "c2054751",
   "metadata": {},
   "outputs": [
    {
     "data": {
      "text/html": [
       "<div><pre style=\"&#102;&#111;&#110;&#116;&#45;&#102;&#97;&#109;&#105;&#108;&#121;&#58;&#32;&#34;&#67;&#111;&#117;&#114;&#105;&#101;&#114;&#32;&#78;&#101;&#119;&#34;&#44;&#67;&#111;&#117;&#114;&#105;&#101;&#114;&#44;&#109;&#111;&#110;&#111;&#115;&#112;&#97;&#99;&#101;&#59;\">&#49;&#49;</pre></div>"
      ],
      "text/plain": [
       "11"
      ]
     },
     "execution_count": 120,
     "metadata": {
      "text/html": [],
      "text/plain": []
     },
     "output_type": "execute_result"
    }
   ],
   "source": [
    "Length[a]"
   ]
  },
  {
   "cell_type": "code",
   "execution_count": 121,
   "id": "9744d5c4",
   "metadata": {},
   "outputs": [],
   "source": [
    "(* 偶数番目の抽出(1):indexによる方法 *)"
   ]
  },
  {
   "cell_type": "code",
   "execution_count": 122,
   "id": "476ec4db",
   "metadata": {},
   "outputs": [
    {
     "data": {
      "text/html": [
       "<div><img alt=\"Output\" src=\"data:image/png;base64,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\"></div>"
      ],
      "text/plain": [
       "  Pi  -1 + Sqrt[5]    3 Pi  1 + Sqrt[5]    Pi       7 Pi  1 + Sqrt[5]\n",
       "{{--, ------------}, {----, -----------}, {--, 1}, {----, -----------}, \n",
       "  10       4           10        4         2         10        4\n",
       " \n",
       "     9 Pi  -1 + Sqrt[5]\n",
       ">   {----, ------------}}\n",
       "      10        4"
      ]
     },
     "execution_count": 122,
     "metadata": {
      "text/html": [],
      "text/plain": []
     },
     "output_type": "execute_result"
    }
   ],
   "source": [
    "Table[a[[i]],{i,2,11,2}]"
   ]
  },
  {
   "cell_type": "code",
   "execution_count": 123,
   "id": "7c6f7fed",
   "metadata": {},
   "outputs": [],
   "source": [
    "(* 偶数番目の抽出(2):写像による方法 Mathematicaでよく使われるテクニック *)"
   ]
  },
  {
   "cell_type": "code",
   "execution_count": 124,
   "id": "a3bec9fc",
   "metadata": {},
   "outputs": [],
   "source": [
    "(* 変域を定義 *)"
   ]
  },
  {
   "cell_type": "code",
   "execution_count": 125,
   "id": "307e42dd",
   "metadata": {},
   "outputs": [
    {
     "data": {
      "text/html": [
       "<div><pre style=\"&#102;&#111;&#110;&#116;&#45;&#102;&#97;&#109;&#105;&#108;&#121;&#58;&#32;&#34;&#67;&#111;&#117;&#114;&#105;&#101;&#114;&#32;&#78;&#101;&#119;&#34;&#44;&#67;&#111;&#117;&#114;&#105;&#101;&#114;&#44;&#109;&#111;&#110;&#111;&#115;&#112;&#97;&#99;&#101;&#59;\">&#123;&#50;&#44;&#32;&#52;&#44;&#32;&#54;&#44;&#32;&#56;&#44;&#32;&#49;&#48;&#125;</pre></div>"
      ],
      "text/plain": [
       "{2, 4, 6, 8, 10}"
      ]
     },
     "execution_count": 125,
     "metadata": {
      "text/html": [],
      "text/plain": []
     },
     "output_type": "execute_result"
    }
   ],
   "source": [
    "n=Table[i,{i,2,11,2}]"
   ]
  },
  {
   "cell_type": "code",
   "execution_count": 126,
   "id": "a5015f03",
   "metadata": {},
   "outputs": [],
   "source": [
    "(* nを変域とする写像 *)"
   ]
  },
  {
   "cell_type": "code",
   "execution_count": 127,
   "id": "3daabc7f",
   "metadata": {},
   "outputs": [
    {
     "data": {
      "text/html": [
       "<div><img alt=\"Output\" src=\"data:image/png;base64,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\"></div>"
      ],
      "text/plain": [
       "  Pi  -1 + Sqrt[5]    3 Pi  1 + Sqrt[5]    Pi       7 Pi  1 + Sqrt[5]\n",
       "{{--, ------------}, {----, -----------}, {--, 1}, {----, -----------}, \n",
       "  10       4           10        4         2         10        4\n",
       " \n",
       "     9 Pi  -1 + Sqrt[5]\n",
       ">   {----, ------------}}\n",
       "      10        4"
      ]
     },
     "execution_count": 127,
     "metadata": {
      "text/html": [],
      "text/plain": []
     },
     "output_type": "execute_result"
    }
   ],
   "source": [
    "Map[a[[#]]&,n]"
   ]
  },
  {
   "cell_type": "code",
   "execution_count": null,
   "id": "e8a506c0",
   "metadata": {},
   "outputs": [],
   "source": [
    "(* 13 October 2022 *)"
   ]
  }
 ],
 "metadata": {
  "kernelspec": {
   "display_name": "Wolfram Language 13.1",
   "language": "Wolfram Language",
   "name": "wolframlanguage13.1"
  },
  "language_info": {
   "codemirror_mode": "mathematica",
   "file_extension": ".m",
   "mimetype": "application/vnd.wolfram.m",
   "name": "Wolfram Language",
   "pygments_lexer": "mathematica",
   "version": "12.0"
  }
 },
 "nbformat": 4,
 "nbformat_minor": 5
}
